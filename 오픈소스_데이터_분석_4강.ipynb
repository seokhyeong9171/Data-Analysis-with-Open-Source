{
 "nbformat": 4,
 "nbformat_minor": 0,
 "metadata": {
  "colab": {
   "provenance": [],
   "include_colab_link": true
  },
  "kernelspec": {
   "name": "python3",
   "display_name": "Python 3 (ipykernel)",
   "language": "python"
  },
  "language_info": {
   "name": "python"
  }
 },
 "cells": [
  {
   "cell_type": "markdown",
   "metadata": {
    "id": "view-in-github",
    "colab_type": "text"
   },
   "source": [
    "<a href=\"https://colab.research.google.com/github/jaehwachung/Data-Analysis-with-Open-Source/blob/main/%EC%98%A4%ED%94%88%EC%86%8C%EC%8A%A4_%EB%8D%B0%EC%9D%B4%ED%84%B0_%EB%B6%84%EC%84%9D_4%EA%B0%95.ipynb\" target=\"_parent\"><img src=\"https://colab.research.google.com/assets/colab-badge.svg\" alt=\"Open In Colab\"/></a>"
   ]
  },
  {
   "cell_type": "markdown",
   "source": [
    "\n",
    "\n",
    "# 오픈소스 기반 데이터 분석 4강 - 데이터 수집\n"
   ],
   "metadata": {
    "id": "DkPKaAsoRq5Q"
   }
  },
  {
   "cell_type": "markdown",
   "source": [
    "## 4-1 CSV 파일 읽기"
   ],
   "metadata": {
    "id": "-I7BVVlnRrB0"
   }
  },
  {
   "cell_type": "code",
   "source": [
    "import pandas as pd\n",
    "\n",
    "## data.csv 파일 읽기\n",
    "df = pd.read_csv('data.csv')\n",
    "\n",
    "print(df)"
   ],
   "metadata": {
    "id": "2Y2HEiaiRwAI",
    "ExecuteTime": {
     "end_time": "2025-09-26T00:29:24.627103Z",
     "start_time": "2025-09-26T00:29:24.622433Z"
    }
   },
   "outputs": [
    {
     "name": "stdout",
     "output_type": "stream",
     "text": [
      "           날짜    체중  골격근량  체지방량\n",
      "0  2025.02.06  64.7  30.0  11.1\n",
      "1  2025.02.04  64.0  29.3  11.6\n"
     ]
    }
   ],
   "execution_count": 3
  },
  {
   "cell_type": "markdown",
   "source": [
    "## 4-2 JSON 파일 읽기\n",
    "\n"
   ],
   "metadata": {
    "id": "9kHCFaGlRrE0"
   }
  },
  {
   "cell_type": "code",
   "source": [
    "import json\n",
    "import pandas as pd\n",
    "\n",
    "## data.json 파일 출력\n",
    "\n",
    "## data.json 파일 DataFrame 읽기\n",
    "\n",
    "print(df)"
   ],
   "metadata": {
    "id": "IO8bsKekR0W_"
   },
   "execution_count": null,
   "outputs": []
  },
  {
   "cell_type": "markdown",
   "source": [
    "## 4-3 텍스트 파일 읽기 및 데이터 추출"
   ],
   "metadata": {
    "id": "uLd_3A_IRrHG"
   }
  },
  {
   "cell_type": "code",
   "source": [
    "import re\n",
    "\n",
    "## 파일(callcenter20250301.log) 오픈 및 읽기\n",
    "with open('callcenter20250301.log', 'r', encoding='utf-8') as f:\n",
    "    content = f.read()\n",
    "\n",
    "## 주민등록번호 패턴 생성\n",
    "pattern = re.compile(r'(\\d{6})-(\\d{7})')\n",
    "\n",
    "## 주민등록번호 마스킹\n",
    "masked_content = pattern.sub(r'\\1-*******', content)\n",
    "\n",
    "## 마스킹된 파일(callcenter20250301_masked.log) 오픈 및 쓰기\n",
    "with open('callcenter20250301_masked.log', mode='w') as f:\n",
    "    f.write(masked_content)\n",
    "\n",
    "print(\"주민등록번호 마스킹 완료. 'callcenter20250301_masked.log.txt' 파일로 저장되었습니다.\")"
   ],
   "metadata": {
    "id": "60qOf7uxVdAg",
    "ExecuteTime": {
     "end_time": "2025-09-26T00:53:26.562781Z",
     "start_time": "2025-09-26T00:53:26.560172Z"
    }
   },
   "outputs": [
    {
     "name": "stdout",
     "output_type": "stream",
     "text": [
      "주민등록번호 마스킹 완료. 'callcenter20250301_masked.log.txt' 파일로 저장되었습니다.\n"
     ]
    }
   ],
   "execution_count": 21
  },
  {
   "cell_type": "markdown",
   "source": [
    "## 4-4 Open-Meteo의 무료 날씨 API를 통한 특정 지역 온도 조회"
   ],
   "metadata": {
    "id": "eOMufu5SXiAU"
   }
  },
  {
   "cell_type": "code",
   "source": [
    "import requests\n",
    "import json\n",
    "\n",
    "url = \"https://api.open-meteo.com/v1/forecast?=&=&current=temperature_2m\"\n",
    "params = {\n",
    "    \"latitude\": \"35.901445069658685\",\n",
    "    \"longitude\": \"127.16655630174932\",\n",
    "    \"current\": \"temperature_2m\"\n",
    "}\n",
    "\n",
    "try:\n",
    "    ## URL 및 파라미터 전송\n",
    "    response = requests.get(url, params=params)\n",
    "    response.raise_for_status()\n",
    "\n",
    "    ## JSON 데이터 읽기\n",
    "    data = response.json()\n",
    "\n",
    "    print(\"API 응답:\", data)\n",
    "    print(\"완주군 용진읍의 현재 온도는 : {0}{1} 입니다.\".format(data['current']['temperature_2m'], data['current_units']['temperature_2m']))\n",
    "\n",
    "except requests.exceptions.RequestException as e:\n",
    "    print(f\"API 호출 실패: {e}\")\n",
    "except json.JSONDecodeError as e:\n",
    "    print(f\"JSON 파싱 실패: {e}\")"
   ],
   "metadata": {
    "id": "JpmgdsW9V0CY",
    "ExecuteTime": {
     "end_time": "2025-09-26T01:00:27.524296Z",
     "start_time": "2025-09-26T01:00:26.335473Z"
    }
   },
   "outputs": [
    {
     "name": "stdout",
     "output_type": "stream",
     "text": [
      "API 응답: {'latitude': 35.9, 'longitude': 127.1875, 'generationtime_ms': 0.023126602172851562, 'utc_offset_seconds': 0, 'timezone': 'GMT', 'timezone_abbreviation': 'GMT', 'elevation': 33.0, 'current_units': {'time': 'iso8601', 'interval': 'seconds', 'temperature_2m': '°C'}, 'current': {'time': '2025-09-26T01:00', 'interval': 900, 'temperature_2m': 22.7}}\n",
      "완주군 용진읍의 현재 온도는 : 22.7°C 입니다.\n"
     ]
    }
   ],
   "execution_count": 24
  },
  {
   "cell_type": "markdown",
   "source": [
    "## 4-5 Selenium과 lxml을 이용한 웹 스크래핑"
   ],
   "metadata": {
    "id": "RLfPaa1ZiqIC"
   }
  },
  {
   "cell_type": "code",
   "source": [
    "!curl -o google-chrome-stable_current_amd64.deb https://dl.google.com/linux/direct/google-chrome-stable_current_amd64.deb\n",
    "!apt install ./google-chrome-stable_current_amd64.deb -y\n",
    "!pip install selenium webdriver_manager"
   ],
   "metadata": {
    "id": "79dmM7MNk8pB",
    "ExecuteTime": {
     "end_time": "2025-09-26T01:00:59.724344Z",
     "start_time": "2025-09-26T01:00:44.313521Z"
    }
   },
   "outputs": [
    {
     "name": "stdout",
     "output_type": "stream",
     "text": [
      "  % Total    % Received % Xferd  Average Speed   Time    Time     Time  Current\r\n",
      "                                 Dload  Upload   Total   Spent    Left  Speed\r\n",
      "100  114M  100  114M    0     0  8558k      0  0:00:13  0:00:13 --:--:-- 8283k\r\n",
      "zsh:1: command not found: apt\r\n",
      "Requirement already satisfied: selenium in ./.venv/lib/python3.12/site-packages (4.35.0)\r\n",
      "Requirement already satisfied: webdriver_manager in ./.venv/lib/python3.12/site-packages (4.0.2)\r\n",
      "Requirement already satisfied: urllib3[socks]<3.0,>=2.5.0 in ./.venv/lib/python3.12/site-packages (from selenium) (2.5.0)\r\n",
      "Requirement already satisfied: trio~=0.30.0 in ./.venv/lib/python3.12/site-packages (from selenium) (0.30.0)\r\n",
      "Requirement already satisfied: trio-websocket~=0.12.2 in ./.venv/lib/python3.12/site-packages (from selenium) (0.12.2)\r\n",
      "Requirement already satisfied: certifi>=2025.6.15 in ./.venv/lib/python3.12/site-packages (from selenium) (2025.8.3)\r\n",
      "Requirement already satisfied: typing_extensions~=4.14.0 in ./.venv/lib/python3.12/site-packages (from selenium) (4.14.1)\r\n",
      "Requirement already satisfied: websocket-client~=1.8.0 in ./.venv/lib/python3.12/site-packages (from selenium) (1.8.0)\r\n",
      "Requirement already satisfied: requests in ./.venv/lib/python3.12/site-packages (from webdriver_manager) (2.32.5)\r\n",
      "Requirement already satisfied: python-dotenv in ./.venv/lib/python3.12/site-packages (from webdriver_manager) (1.1.1)\r\n",
      "Requirement already satisfied: packaging in ./.venv/lib/python3.12/site-packages (from webdriver_manager) (25.0)\r\n",
      "Requirement already satisfied: attrs>=23.2.0 in ./.venv/lib/python3.12/site-packages (from trio~=0.30.0->selenium) (25.3.0)\r\n",
      "Requirement already satisfied: sortedcontainers in ./.venv/lib/python3.12/site-packages (from trio~=0.30.0->selenium) (2.4.0)\r\n",
      "Requirement already satisfied: idna in ./.venv/lib/python3.12/site-packages (from trio~=0.30.0->selenium) (3.10)\r\n",
      "Requirement already satisfied: outcome in ./.venv/lib/python3.12/site-packages (from trio~=0.30.0->selenium) (1.3.0.post0)\r\n",
      "Requirement already satisfied: sniffio>=1.3.0 in ./.venv/lib/python3.12/site-packages (from trio~=0.30.0->selenium) (1.3.1)\r\n",
      "Requirement already satisfied: wsproto>=0.14 in ./.venv/lib/python3.12/site-packages (from trio-websocket~=0.12.2->selenium) (1.2.0)\r\n",
      "Requirement already satisfied: pysocks!=1.5.7,<2.0,>=1.5.6 in ./.venv/lib/python3.12/site-packages (from urllib3[socks]<3.0,>=2.5.0->selenium) (1.7.1)\r\n",
      "Requirement already satisfied: charset_normalizer<4,>=2 in ./.venv/lib/python3.12/site-packages (from requests->webdriver_manager) (3.4.3)\r\n",
      "Requirement already satisfied: h11<1,>=0.9.0 in ./.venv/lib/python3.12/site-packages (from wsproto>=0.14->trio-websocket~=0.12.2->selenium) (0.16.0)\r\n",
      "\r\n",
      "\u001B[1m[\u001B[0m\u001B[34;49mnotice\u001B[0m\u001B[1;39;49m]\u001B[0m\u001B[39;49m A new release of pip is available: \u001B[0m\u001B[31;49m23.2.1\u001B[0m\u001B[39;49m -> \u001B[0m\u001B[32;49m25.2\u001B[0m\r\n",
      "\u001B[1m[\u001B[0m\u001B[34;49mnotice\u001B[0m\u001B[1;39;49m]\u001B[0m\u001B[39;49m To update, run: \u001B[0m\u001B[32;49mpip install --upgrade pip\u001B[0m\r\n"
     ]
    }
   ],
   "execution_count": 25
  },
  {
   "cell_type": "code",
   "source": [
    "from selenium import webdriver\n",
    "from selenium.webdriver.chrome.service import Service as ChromeService\n",
    "from webdriver_manager.chrome import ChromeDriverManager\n",
    "from selenium.webdriver.common.by import By\n",
    "from lxml import html\n",
    "import time\n",
    "\n",
    "chrome_options = webdriver.ChromeOptions()\n",
    "chrome_options.add_argument('--headless')               # 브라우저 창 없이 실행\n",
    "chrome_options.add_argument('--no-sandbox')             # 보안모드 비활성화 (Colab 필수)\n",
    "chrome_options.add_argument('--disable-dev-shm-usage')  # 메모리 부족 방지 (Colab 필수)\n",
    "chrome_options.add_argument('--window-size=1920x1080')  # 창 크기 설정(가상)\n",
    "chrome_options.add_argument('--disable-gpu')            # GPU 가속 비활성화 (일부 환경 안정성)\n",
    "chrome_options.binary_location = \"/usr/bin/google-chrome-stable\"  # Colab용 크롬 경로 지정\n",
    "\n",
    "## 드라이버 실행\n",
    "driver = webdriver.Chrome(options=chrome_options)\n",
    "\n",
    "## 사이트 접속\n",
    "url = 'https://professor.knou.ac.kr/jaehwachung/index.do'\n",
    "driver.get(url)\n",
    "\n",
    "## 사이트 접속 대기\n",
    "time.sleep(2)\n",
    "\n",
    "## 페이지 제목 출력\n",
    "page_source = driver.page_source\n",
    "tree = html.fromstring(page_source)\n",
    "\n",
    "title_text = tree.xpath('//title/text()')\n",
    "print(title_text)\n",
    "\n",
    "## 드라이버 종료\n",
    "driver.quit()"
   ],
   "metadata": {
    "id": "cRC8x3_iW0im",
    "ExecuteTime": {
     "end_time": "2025-09-26T01:05:43.461914Z",
     "start_time": "2025-09-26T01:05:42.407559Z"
    }
   },
   "outputs": [
    {
     "ename": "NoSuchDriverException",
     "evalue": "Message: Unable to obtain driver for chrome; For documentation on this error, please visit: https://www.selenium.dev/documentation/webdriver/troubleshooting/errors/driver_location\n",
     "output_type": "error",
     "traceback": [
      "\u001B[31m---------------------------------------------------------------------------\u001B[39m",
      "\u001B[31mWebDriverException\u001B[39m                        Traceback (most recent call last)",
      "\u001B[36mFile \u001B[39m\u001B[32m~/Library/Mobile Documents/com~apple~CloudDocs/방통대/3학년2학기/오픈소스/Data-Analysis-with-Open-Source/.venv/lib/python3.12/site-packages/selenium/webdriver/common/driver_finder.py:67\u001B[39m, in \u001B[36mDriverFinder._binary_paths\u001B[39m\u001B[34m(self)\u001B[39m\n\u001B[32m     66\u001B[39m \u001B[38;5;28;01melse\u001B[39;00m:\n\u001B[32m---> \u001B[39m\u001B[32m67\u001B[39m     output = \u001B[43mSeleniumManager\u001B[49m\u001B[43m(\u001B[49m\u001B[43m)\u001B[49m\u001B[43m.\u001B[49m\u001B[43mbinary_paths\u001B[49m\u001B[43m(\u001B[49m\u001B[38;5;28;43mself\u001B[39;49m\u001B[43m.\u001B[49m\u001B[43m_to_args\u001B[49m\u001B[43m(\u001B[49m\u001B[43m)\u001B[49m\u001B[43m)\u001B[49m\n\u001B[32m     68\u001B[39m     \u001B[38;5;28;01mif\u001B[39;00m Path(output[\u001B[33m\"\u001B[39m\u001B[33mdriver_path\u001B[39m\u001B[33m\"\u001B[39m]).is_file():\n",
      "\u001B[36mFile \u001B[39m\u001B[32m~/Library/Mobile Documents/com~apple~CloudDocs/방통대/3학년2학기/오픈소스/Data-Analysis-with-Open-Source/.venv/lib/python3.12/site-packages/selenium/webdriver/common/selenium_manager.py:54\u001B[39m, in \u001B[36mSeleniumManager.binary_paths\u001B[39m\u001B[34m(self, args)\u001B[39m\n\u001B[32m     52\u001B[39m args.append(\u001B[33m\"\u001B[39m\u001B[33mjson\u001B[39m\u001B[33m\"\u001B[39m)\n\u001B[32m---> \u001B[39m\u001B[32m54\u001B[39m \u001B[38;5;28;01mreturn\u001B[39;00m \u001B[38;5;28;43mself\u001B[39;49m\u001B[43m.\u001B[49m\u001B[43m_run\u001B[49m\u001B[43m(\u001B[49m\u001B[43margs\u001B[49m\u001B[43m)\u001B[49m\n",
      "\u001B[36mFile \u001B[39m\u001B[32m~/Library/Mobile Documents/com~apple~CloudDocs/방통대/3학년2학기/오픈소스/Data-Analysis-with-Open-Source/.venv/lib/python3.12/site-packages/selenium/webdriver/common/selenium_manager.py:128\u001B[39m, in \u001B[36mSeleniumManager._run\u001B[39m\u001B[34m(args)\u001B[39m\n\u001B[32m    127\u001B[39m \u001B[38;5;28;01mif\u001B[39;00m completed_proc.returncode:\n\u001B[32m--> \u001B[39m\u001B[32m128\u001B[39m     \u001B[38;5;28;01mraise\u001B[39;00m WebDriverException(\n\u001B[32m    129\u001B[39m         \u001B[33mf\u001B[39m\u001B[33m\"\u001B[39m\u001B[33mUnsuccessful command executed: \u001B[39m\u001B[38;5;132;01m{\u001B[39;00mcommand\u001B[38;5;132;01m}\u001B[39;00m\u001B[33m; code: \u001B[39m\u001B[38;5;132;01m{\u001B[39;00mcompleted_proc.returncode\u001B[38;5;132;01m}\u001B[39;00m\u001B[38;5;130;01m\\n\u001B[39;00m\u001B[38;5;132;01m{\u001B[39;00mresult\u001B[38;5;132;01m}\u001B[39;00m\u001B[38;5;130;01m\\n\u001B[39;00m\u001B[38;5;132;01m{\u001B[39;00mstderr\u001B[38;5;132;01m}\u001B[39;00m\u001B[33m\"\u001B[39m\n\u001B[32m    130\u001B[39m     )\n\u001B[32m    131\u001B[39m \u001B[38;5;28;01mreturn\u001B[39;00m result\n",
      "\u001B[31mWebDriverException\u001B[39m: Message: Unsuccessful command executed: /Users/hongseoghyeong/Library/Mobile Documents/com~apple~CloudDocs/방통대/3학년2학기/오픈소스/Data-Analysis-with-Open-Source/.venv/lib/python3.12/site-packages/selenium/webdriver/common/macos/selenium-manager --browser chrome --browser-path /usr/bin/google-chrome-stable --language-binding python --output json; code: 65\n{'code': 65, 'message': 'Browser path does not exist: /usr/bin/google-chrome-stable', 'driver_path': '', 'browser_path': ''}\n\n",
      "\nThe above exception was the direct cause of the following exception:\n",
      "\u001B[31mNoSuchDriverException\u001B[39m                     Traceback (most recent call last)",
      "\u001B[36mCell\u001B[39m\u001B[36m \u001B[39m\u001B[32mIn[26]\u001B[39m\u001B[32m, line 17\u001B[39m\n\u001B[32m     14\u001B[39m chrome_options.binary_location = \u001B[33m\"\u001B[39m\u001B[33m/usr/bin/google-chrome-stable\u001B[39m\u001B[33m\"\u001B[39m  \u001B[38;5;66;03m# Colab용 크롬 경로 지정\u001B[39;00m\n\u001B[32m     16\u001B[39m \u001B[38;5;66;03m## 드라이버 실행\u001B[39;00m\n\u001B[32m---> \u001B[39m\u001B[32m17\u001B[39m driver = \u001B[43mwebdriver\u001B[49m\u001B[43m.\u001B[49m\u001B[43mChrome\u001B[49m\u001B[43m(\u001B[49m\u001B[43moptions\u001B[49m\u001B[43m=\u001B[49m\u001B[43mchrome_options\u001B[49m\u001B[43m)\u001B[49m\n\u001B[32m     19\u001B[39m \u001B[38;5;66;03m## 사이트 접속\u001B[39;00m\n\u001B[32m     20\u001B[39m url = \u001B[33m'\u001B[39m\u001B[33mhttps://professor.knou.ac.kr/jaehwachung/index.do\u001B[39m\u001B[33m'\u001B[39m\n",
      "\u001B[36mFile \u001B[39m\u001B[32m~/Library/Mobile Documents/com~apple~CloudDocs/방통대/3학년2학기/오픈소스/Data-Analysis-with-Open-Source/.venv/lib/python3.12/site-packages/selenium/webdriver/chrome/webdriver.py:47\u001B[39m, in \u001B[36mWebDriver.__init__\u001B[39m\u001B[34m(self, options, service, keep_alive)\u001B[39m\n\u001B[32m     44\u001B[39m service = service \u001B[38;5;28;01mif\u001B[39;00m service \u001B[38;5;28;01melse\u001B[39;00m Service()\n\u001B[32m     45\u001B[39m options = options \u001B[38;5;28;01mif\u001B[39;00m options \u001B[38;5;28;01melse\u001B[39;00m Options()\n\u001B[32m---> \u001B[39m\u001B[32m47\u001B[39m \u001B[38;5;28;43msuper\u001B[39;49m\u001B[43m(\u001B[49m\u001B[43m)\u001B[49m\u001B[43m.\u001B[49m\u001B[34;43m__init__\u001B[39;49m\u001B[43m(\u001B[49m\n\u001B[32m     48\u001B[39m \u001B[43m    \u001B[49m\u001B[43mbrowser_name\u001B[49m\u001B[43m=\u001B[49m\u001B[43mDesiredCapabilities\u001B[49m\u001B[43m.\u001B[49m\u001B[43mCHROME\u001B[49m\u001B[43m[\u001B[49m\u001B[33;43m\"\u001B[39;49m\u001B[33;43mbrowserName\u001B[39;49m\u001B[33;43m\"\u001B[39;49m\u001B[43m]\u001B[49m\u001B[43m,\u001B[49m\n\u001B[32m     49\u001B[39m \u001B[43m    \u001B[49m\u001B[43mvendor_prefix\u001B[49m\u001B[43m=\u001B[49m\u001B[33;43m\"\u001B[39;49m\u001B[33;43mgoog\u001B[39;49m\u001B[33;43m\"\u001B[39;49m\u001B[43m,\u001B[49m\n\u001B[32m     50\u001B[39m \u001B[43m    \u001B[49m\u001B[43moptions\u001B[49m\u001B[43m=\u001B[49m\u001B[43moptions\u001B[49m\u001B[43m,\u001B[49m\n\u001B[32m     51\u001B[39m \u001B[43m    \u001B[49m\u001B[43mservice\u001B[49m\u001B[43m=\u001B[49m\u001B[43mservice\u001B[49m\u001B[43m,\u001B[49m\n\u001B[32m     52\u001B[39m \u001B[43m    \u001B[49m\u001B[43mkeep_alive\u001B[49m\u001B[43m=\u001B[49m\u001B[43mkeep_alive\u001B[49m\u001B[43m,\u001B[49m\n\u001B[32m     53\u001B[39m \u001B[43m\u001B[49m\u001B[43m)\u001B[49m\n",
      "\u001B[36mFile \u001B[39m\u001B[32m~/Library/Mobile Documents/com~apple~CloudDocs/방통대/3학년2학기/오픈소스/Data-Analysis-with-Open-Source/.venv/lib/python3.12/site-packages/selenium/webdriver/chromium/webdriver.py:53\u001B[39m, in \u001B[36mChromiumDriver.__init__\u001B[39m\u001B[34m(self, browser_name, vendor_prefix, options, service, keep_alive)\u001B[39m\n\u001B[32m     50\u001B[39m \u001B[38;5;28mself\u001B[39m.service = service\n\u001B[32m     52\u001B[39m finder = DriverFinder(\u001B[38;5;28mself\u001B[39m.service, options)\n\u001B[32m---> \u001B[39m\u001B[32m53\u001B[39m \u001B[38;5;28;01mif\u001B[39;00m \u001B[43mfinder\u001B[49m\u001B[43m.\u001B[49m\u001B[43mget_browser_path\u001B[49m\u001B[43m(\u001B[49m\u001B[43m)\u001B[49m:\n\u001B[32m     54\u001B[39m     options.binary_location = finder.get_browser_path()\n\u001B[32m     55\u001B[39m     options.browser_version = \u001B[38;5;28;01mNone\u001B[39;00m\n",
      "\u001B[36mFile \u001B[39m\u001B[32m~/Library/Mobile Documents/com~apple~CloudDocs/방통대/3학년2학기/오픈소스/Data-Analysis-with-Open-Source/.venv/lib/python3.12/site-packages/selenium/webdriver/common/driver_finder.py:47\u001B[39m, in \u001B[36mDriverFinder.get_browser_path\u001B[39m\u001B[34m(self)\u001B[39m\n\u001B[32m     46\u001B[39m \u001B[38;5;28;01mdef\u001B[39;00m\u001B[38;5;250m \u001B[39m\u001B[34mget_browser_path\u001B[39m(\u001B[38;5;28mself\u001B[39m) -> \u001B[38;5;28mstr\u001B[39m:\n\u001B[32m---> \u001B[39m\u001B[32m47\u001B[39m     \u001B[38;5;28;01mreturn\u001B[39;00m \u001B[38;5;28;43mself\u001B[39;49m\u001B[43m.\u001B[49m\u001B[43m_binary_paths\u001B[49m\u001B[43m(\u001B[49m\u001B[43m)\u001B[49m[\u001B[33m\"\u001B[39m\u001B[33mbrowser_path\u001B[39m\u001B[33m\"\u001B[39m]\n",
      "\u001B[36mFile \u001B[39m\u001B[32m~/Library/Mobile Documents/com~apple~CloudDocs/방통대/3학년2학기/오픈소스/Data-Analysis-with-Open-Source/.venv/lib/python3.12/site-packages/selenium/webdriver/common/driver_finder.py:78\u001B[39m, in \u001B[36mDriverFinder._binary_paths\u001B[39m\u001B[34m(self)\u001B[39m\n\u001B[32m     76\u001B[39m \u001B[38;5;28;01mexcept\u001B[39;00m \u001B[38;5;167;01mException\u001B[39;00m \u001B[38;5;28;01mas\u001B[39;00m err:\n\u001B[32m     77\u001B[39m     msg = \u001B[33mf\u001B[39m\u001B[33m\"\u001B[39m\u001B[33mUnable to obtain driver for \u001B[39m\u001B[38;5;132;01m{\u001B[39;00mbrowser\u001B[38;5;132;01m}\u001B[39;00m\u001B[33m\"\u001B[39m\n\u001B[32m---> \u001B[39m\u001B[32m78\u001B[39m     \u001B[38;5;28;01mraise\u001B[39;00m NoSuchDriverException(msg) \u001B[38;5;28;01mfrom\u001B[39;00m\u001B[38;5;250m \u001B[39m\u001B[34;01merr\u001B[39;00m\n\u001B[32m     79\u001B[39m \u001B[38;5;28;01mreturn\u001B[39;00m \u001B[38;5;28mself\u001B[39m._paths\n",
      "\u001B[31mNoSuchDriverException\u001B[39m: Message: Unable to obtain driver for chrome; For documentation on this error, please visit: https://www.selenium.dev/documentation/webdriver/troubleshooting/errors/driver_location\n"
     ]
    }
   ],
   "execution_count": 26
  },
  {
   "cell_type": "markdown",
   "source": [
    "\n",
    "# 실습 시나리오"
   ],
   "metadata": {
    "id": "Bu6OMZyGirOq"
   }
  },
  {
   "cell_type": "markdown",
   "source": [
    "## 공공데이터 포털 가입 및 데이터 신청\n",
    "\n",
    "- [https://www.data.go.kr](https://www.data.go.kr)\n",
    "- 한국환경공단 에어코리아 대기오염정보 데이터 신청"
   ],
   "metadata": {
    "id": "nsuqRN9RkZlW"
   }
  },
  {
   "cell_type": "code",
   "source": [
    "import requests\n",
    "\n",
    "## 데이터 수집 url 및 api key 설정\n",
    "url = 'http://apis.data.go.kr/B552584/ArpltnInforInqireSvc/getCtprvnRltmMesureDnsty'\n",
    "api_key = 'Y5LtL3tiaQE80Lx/X28cXDzw=='\n",
    "\n",
    "params = {\n",
    "    'serviceKey': api_key,\n",
    "    'returnType': 'json',\n",
    "    'numOfRows': '100',\n",
    "    'pageNo': '1',\n",
    "    'sidoName': '서울',\n",
    "    'ver': '1.0'\n",
    "}\n",
    "\n",
    "## 데이터 수집\n",
    "response = requests.get(url, params=params)\n",
    "\n",
    "## 호출 성공/실패 출력\n",
    "print(response.json())\n",
    "\n"
   ],
   "metadata": {
    "id": "7yCozmQeXJcO",
    "ExecuteTime": {
     "end_time": "2025-09-26T01:19:18.238502Z",
     "start_time": "2025-09-26T01:19:17.600428Z"
    }
   },
   "outputs": [
    {
     "name": "stdout",
     "output_type": "stream",
     "text": [
      "{'response': {'body': {'totalCount': 40, 'items': [{'so2Grade': '1', 'coFlag': None, 'khaiValue': '43', 'so2Value': '0.002', 'coValue': '0.5', 'pm25Flag': None, 'pm10Flag': None, 'o3Grade': '1', 'pm10Value': '26', 'khaiGrade': '1', 'pm25Value': '15', 'sidoName': '서울', 'no2Flag': None, 'no2Grade': '1', 'o3Flag': None, 'pm25Grade': '1', 'so2Flag': None, 'dataTime': '2025-09-26 10:00', 'coGrade': '1', 'no2Value': '0.021', 'stationName': '강남구', 'pm10Grade': '1', 'o3Value': '0.013'}, {'so2Grade': '1', 'coFlag': None, 'khaiValue': '56', 'so2Value': '0.002', 'coValue': '0.4', 'pm25Flag': None, 'pm10Flag': None, 'o3Grade': '1', 'pm10Value': '42', 'khaiGrade': '2', 'pm25Value': '27', 'sidoName': '서울', 'no2Flag': None, 'no2Grade': '1', 'o3Flag': None, 'pm25Grade': '2', 'so2Flag': None, 'dataTime': '2025-09-26 10:00', 'coGrade': '1', 'no2Value': '0.024', 'stationName': '서초구', 'pm10Grade': '1', 'o3Value': '0.014'}, {'so2Grade': '1', 'coFlag': None, 'khaiValue': '54', 'so2Value': '0.003', 'coValue': '0.7', 'pm25Flag': None, 'pm10Flag': None, 'o3Grade': '1', 'pm10Value': '49', 'khaiGrade': '2', 'pm25Value': '24', 'sidoName': '서울', 'no2Flag': None, 'no2Grade': '1', 'o3Flag': None, 'pm25Grade': '1', 'so2Flag': None, 'dataTime': '2025-09-26 10:00', 'coGrade': '1', 'no2Value': '0.025', 'stationName': '도산대로', 'pm10Grade': '2', 'o3Value': '0.016'}, {'so2Grade': '1', 'coFlag': None, 'khaiValue': '47', 'so2Value': '0.003', 'coValue': '0.8', 'pm25Flag': None, 'pm10Flag': None, 'o3Grade': '1', 'pm10Value': '33', 'khaiGrade': '1', 'pm25Value': '22', 'sidoName': '서울', 'no2Flag': None, 'no2Grade': '1', 'o3Flag': None, 'pm25Grade': '1', 'so2Flag': None, 'dataTime': '2025-09-26 10:00', 'coGrade': '1', 'no2Value': '0.026', 'stationName': '강남대로', 'pm10Grade': '1', 'o3Value': '0.009'}, {'so2Grade': '1', 'coFlag': None, 'khaiValue': '47', 'so2Value': '0.003', 'coValue': '0.5', 'pm25Flag': None, 'pm10Flag': None, 'o3Grade': '1', 'pm10Value': '33', 'khaiGrade': '1', 'pm25Value': '18', 'sidoName': '서울', 'no2Flag': None, 'no2Grade': '1', 'o3Flag': None, 'pm25Grade': '1', 'so2Flag': None, 'dataTime': '2025-09-26 10:00', 'coGrade': '1', 'no2Value': '0.018', 'stationName': '송파구', 'pm10Grade': '1', 'o3Value': '0.017'}, {'so2Grade': '1', 'coFlag': None, 'khaiValue': '47', 'so2Value': '0.002', 'coValue': '0.9', 'pm25Flag': None, 'pm10Flag': None, 'o3Grade': '1', 'pm10Value': '26', 'khaiGrade': '1', 'pm25Value': '16', 'sidoName': '서울', 'no2Flag': None, 'no2Grade': '1', 'o3Flag': None, 'pm25Grade': '1', 'so2Flag': None, 'dataTime': '2025-09-26 10:00', 'coGrade': '1', 'no2Value': '0.011', 'stationName': '강동구', 'pm10Grade': '1', 'o3Value': '0.019'}, {'so2Grade': '1', 'coFlag': None, 'khaiValue': '37', 'so2Value': '0.002', 'coValue': '0.6', 'pm25Flag': None, 'pm10Flag': None, 'o3Grade': '1', 'pm10Value': '18', 'khaiGrade': '1', 'pm25Value': '10', 'sidoName': '서울', 'no2Flag': None, 'no2Grade': '1', 'o3Flag': None, 'pm25Grade': '1', 'so2Flag': None, 'dataTime': '2025-09-26 10:00', 'coGrade': '1', 'no2Value': '0.021', 'stationName': '천호대로', 'pm10Grade': '1', 'o3Value': '0.013'}, {'so2Grade': '1', 'coFlag': None, 'khaiValue': '54', 'so2Value': '0.003', 'coValue': '0.5', 'pm25Flag': None, 'pm10Flag': None, 'o3Grade': '1', 'pm10Value': '28', 'khaiGrade': '2', 'pm25Value': '16', 'sidoName': '서울', 'no2Flag': None, 'no2Grade': '1', 'o3Flag': None, 'pm25Grade': '2', 'so2Flag': None, 'dataTime': '2025-09-26 10:00', 'coGrade': '1', 'no2Value': '0.021', 'stationName': '금천구', 'pm10Grade': '1', 'o3Value': '0.025'}, {'so2Grade': '1', 'coFlag': None, 'khaiValue': '82', 'so2Value': '0.003', 'coValue': '0.7', 'pm25Flag': None, 'pm10Flag': None, 'o3Grade': '1', 'pm10Value': '34', 'khaiGrade': '2', 'pm25Value': '20', 'sidoName': '서울', 'no2Flag': None, 'no2Grade': '2', 'o3Flag': None, 'pm25Grade': '2', 'so2Flag': None, 'dataTime': '2025-09-26 10:00', 'coGrade': '1', 'no2Value': '0.049', 'stationName': '시흥대로', 'pm10Grade': '1', 'o3Value': '0.010'}, {'so2Grade': '1', 'coFlag': None, 'khaiValue': '37', 'so2Value': '0.002', 'coValue': '0.4', 'pm25Flag': None, 'pm10Flag': None, 'o3Grade': '1', 'pm10Value': '21', 'khaiGrade': '1', 'pm25Value': '12', 'sidoName': '서울', 'no2Flag': None, 'no2Grade': '1', 'o3Flag': None, 'pm25Grade': '1', 'so2Flag': None, 'dataTime': '2025-09-26 10:00', 'coGrade': '1', 'no2Value': '0.010', 'stationName': '강북구', 'pm10Grade': '1', 'o3Value': '0.022'}, {'so2Grade': '1', 'coFlag': None, 'khaiValue': '54', 'so2Value': '0.002', 'coValue': '0.4', 'pm25Flag': None, 'pm10Flag': None, 'o3Grade': '2', 'pm10Value': '31', 'khaiGrade': '2', 'pm25Value': '16', 'sidoName': '서울', 'no2Flag': None, 'no2Grade': '1', 'o3Flag': None, 'pm25Grade': '1', 'so2Flag': None, 'dataTime': '2025-09-26 10:00', 'coGrade': '1', 'no2Value': '0.016', 'stationName': '양천구', 'pm10Grade': '1', 'o3Value': '0.034'}, {'so2Grade': '1', 'coFlag': None, 'khaiValue': '47', 'so2Value': '0.002', 'coValue': '0.4', 'pm25Flag': None, 'pm10Flag': None, 'o3Grade': '1', 'pm10Value': '23', 'khaiGrade': '1', 'pm25Value': '15', 'sidoName': '서울', 'no2Flag': None, 'no2Grade': '1', 'o3Flag': None, 'pm25Grade': '1', 'so2Flag': None, 'dataTime': '2025-09-26 10:00', 'coGrade': '1', 'no2Value': '0.019', 'stationName': '노원구', 'pm10Grade': '1', 'o3Value': '0.012'}, {'so2Grade': '1', 'coFlag': None, 'khaiValue': '47', 'so2Value': '0.002', 'coValue': '0.5', 'pm25Flag': None, 'pm10Flag': None, 'o3Grade': '1', 'pm10Value': '27', 'khaiGrade': '1', 'pm25Value': '16', 'sidoName': '서울', 'no2Flag': None, 'no2Grade': '1', 'o3Flag': None, 'pm25Grade': '1', 'so2Flag': None, 'dataTime': '2025-09-26 10:00', 'coGrade': '1', 'no2Value': '0.026', 'stationName': '화랑로', 'pm10Grade': '1', 'o3Value': '0.012'}, {'so2Grade': '1', 'coFlag': None, 'khaiValue': '47', 'so2Value': '0.002', 'coValue': '0.5', 'pm25Flag': None, 'pm10Flag': None, 'o3Grade': '1', 'pm10Value': '29', 'khaiGrade': '1', 'pm25Value': '18', 'sidoName': '서울', 'no2Flag': None, 'no2Grade': '1', 'o3Flag': None, 'pm25Grade': '1', 'so2Flag': None, 'dataTime': '2025-09-26 10:00', 'coGrade': '1', 'no2Value': '0.027', 'stationName': '중구', 'pm10Grade': '1', 'o3Value': '0.018'}, {'so2Grade': '1', 'coFlag': None, 'khaiValue': '51', 'so2Value': '0.003', 'coValue': '0.7', 'pm25Flag': None, 'pm10Flag': None, 'o3Grade': '1', 'pm10Value': '42', 'khaiGrade': '2', 'pm25Value': '26', 'sidoName': '서울', 'no2Flag': None, 'no2Grade': '1', 'o3Flag': None, 'pm25Grade': '2', 'so2Flag': None, 'dataTime': '2025-09-26 10:00', 'coGrade': '1', 'no2Value': '0.026', 'stationName': '한강대로', 'pm10Grade': '2', 'o3Value': '0.011'}, {'so2Grade': '1', 'coFlag': None, 'khaiValue': '56', 'so2Value': '0.003', 'coValue': '0.5', 'pm25Flag': None, 'pm10Flag': None, 'o3Grade': '1', 'pm10Value': '31', 'khaiGrade': '2', 'pm25Value': '22', 'sidoName': '서울', 'no2Flag': None, 'no2Grade': '1', 'o3Flag': None, 'pm25Grade': '2', 'so2Flag': None, 'dataTime': '2025-09-26 10:00', 'coGrade': '1', 'no2Value': '0.026', 'stationName': '종로구', 'pm10Grade': '1', 'o3Value': '0.020'}, {'so2Grade': '1', 'coFlag': None, 'khaiValue': '50', 'so2Value': '0.003', 'coValue': '0.7', 'pm25Flag': None, 'pm10Flag': None, 'o3Grade': '1', 'pm10Value': '36', 'khaiGrade': '1', 'pm25Value': '18', 'sidoName': '서울', 'no2Flag': None, 'no2Grade': '1', 'o3Flag': None, 'pm25Grade': '1', 'so2Flag': None, 'dataTime': '2025-09-26 10:00', 'coGrade': '1', 'no2Value': '0.024', 'stationName': '청계천로', 'pm10Grade': '1', 'o3Value': '0.015'}, {'so2Grade': '1', 'coFlag': None, 'khaiValue': '44', 'so2Value': '0.002', 'coValue': '0.6', 'pm25Flag': None, 'pm10Flag': None, 'o3Grade': '1', 'pm10Value': '35', 'khaiGrade': '1', 'pm25Value': '18', 'sidoName': '서울', 'no2Flag': None, 'no2Grade': '1', 'o3Flag': None, 'pm25Grade': '1', 'so2Flag': None, 'dataTime': '2025-09-26 10:00', 'coGrade': '1', 'no2Value': '0.026', 'stationName': '종로', 'pm10Grade': '1', 'o3Value': '0.013'}, {'so2Grade': '1', 'coFlag': None, 'khaiValue': '-', 'so2Value': '0.003', 'coValue': '0.5', 'pm25Flag': None, 'pm10Flag': '통신장애', 'o3Grade': '1', 'pm10Value': '-', 'khaiGrade': None, 'pm25Value': '20', 'sidoName': '서울', 'no2Flag': None, 'no2Grade': '1', 'o3Flag': None, 'pm25Grade': '2', 'so2Flag': None, 'dataTime': '2025-09-26 10:00', 'coGrade': '1', 'no2Value': '0.023', 'stationName': '용산구', 'pm10Grade': None, 'o3Value': '0.015'}, {'so2Grade': '1', 'coFlag': None, 'khaiValue': '46', 'so2Value': '0.003', 'coValue': '0.6', 'pm25Flag': None, 'pm10Flag': None, 'o3Grade': '1', 'pm10Value': '24', 'khaiGrade': '1', 'pm25Value': '13', 'sidoName': '서울', 'no2Flag': None, 'no2Grade': '1', 'o3Flag': None, 'pm25Grade': '1', 'so2Flag': None, 'dataTime': '2025-09-26 10:00', 'coGrade': '1', 'no2Value': '0.011', 'stationName': '광진구', 'pm10Grade': '1', 'o3Value': '0.028'}, {'so2Grade': '1', 'coFlag': None, 'khaiValue': '50', 'so2Value': '0.003', 'coValue': '0.4', 'pm25Flag': None, 'pm10Flag': None, 'o3Grade': '1', 'pm10Value': '24', 'khaiGrade': '1', 'pm25Value': '17', 'sidoName': '서울', 'no2Flag': None, 'no2Grade': '1', 'o3Flag': None, 'pm25Grade': '1', 'so2Flag': None, 'dataTime': '2025-09-26 10:00', 'coGrade': '1', 'no2Value': '0.018', 'stationName': '성동구', 'pm10Grade': '1', 'o3Value': '0.016'}, {'so2Grade': '1', 'coFlag': None, 'khaiValue': '45', 'so2Value': '0.003', 'coValue': '0.6', 'pm25Flag': None, 'pm10Flag': None, 'o3Grade': '1', 'pm10Value': '28', 'khaiGrade': '1', 'pm25Value': '16', 'sidoName': '서울', 'no2Flag': None, 'no2Grade': '1', 'o3Flag': None, 'pm25Grade': '1', 'so2Flag': None, 'dataTime': '2025-09-26 10:00', 'coGrade': '1', 'no2Value': '0.017', 'stationName': '강변북로', 'pm10Grade': '1', 'o3Value': '0.014'}, {'so2Grade': '1', 'coFlag': None, 'khaiValue': '40', 'so2Value': '0.002', 'coValue': '0.4', 'pm25Flag': None, 'pm10Flag': None, 'o3Grade': '1', 'pm10Value': '31', 'khaiGrade': '1', 'pm25Value': '12', 'sidoName': '서울', 'no2Flag': None, 'no2Grade': '1', 'o3Flag': None, 'pm25Grade': '1', 'so2Flag': None, 'dataTime': '2025-09-26 10:00', 'coGrade': '1', 'no2Value': '0.011', 'stationName': '중랑구', 'pm10Grade': '1', 'o3Value': '0.019'}, {'so2Grade': '1', 'coFlag': None, 'khaiValue': '50', 'so2Value': '0.002', 'coValue': '0.4', 'pm25Flag': None, 'pm10Flag': None, 'o3Grade': '1', 'pm10Value': '32', 'khaiGrade': '1', 'pm25Value': '17', 'sidoName': '서울', 'no2Flag': None, 'no2Grade': '1', 'o3Flag': None, 'pm25Grade': '1', 'so2Flag': None, 'dataTime': '2025-09-26 10:00', 'coGrade': '1', 'no2Value': '0.022', 'stationName': '동대문구', 'pm10Grade': '1', 'o3Value': '0.015'}, {'so2Grade': '1', 'coFlag': None, 'khaiValue': '47', 'so2Value': '0.003', 'coValue': '0.5', 'pm25Flag': None, 'pm10Flag': None, 'o3Grade': '1', 'pm10Value': '30', 'khaiGrade': '1', 'pm25Value': '13', 'sidoName': '서울', 'no2Flag': None, 'no2Grade': '1', 'o3Flag': None, 'pm25Grade': '1', 'so2Flag': None, 'dataTime': '2025-09-26 10:00', 'coGrade': '1', 'no2Value': '0.024', 'stationName': '홍릉로', 'pm10Grade': '1', 'o3Value': '0.012'}, {'so2Grade': '1', 'coFlag': None, 'khaiValue': '54', 'so2Value': '0.003', 'coValue': '0.6', 'pm25Flag': None, 'pm10Flag': None, 'o3Grade': '1', 'pm10Value': '34', 'khaiGrade': '2', 'pm25Value': '25', 'sidoName': '서울', 'no2Flag': None, 'no2Grade': '1', 'o3Flag': None, 'pm25Grade': '2', 'so2Flag': None, 'dataTime': '2025-09-26 10:00', 'coGrade': '1', 'no2Value': '0.022', 'stationName': '성북구', 'pm10Grade': '1', 'o3Value': '0.010'}, {'so2Grade': '1', 'coFlag': None, 'khaiValue': '50', 'so2Value': '0.003', 'coValue': '0.5', 'pm25Flag': None, 'pm10Flag': None, 'o3Grade': '1', 'pm10Value': '35', 'khaiGrade': '1', 'pm25Value': '17', 'sidoName': '서울', 'no2Flag': None, 'no2Grade': '1', 'o3Flag': None, 'pm25Grade': '1', 'so2Flag': None, 'dataTime': '2025-09-26 10:00', 'coGrade': '1', 'no2Value': '0.030', 'stationName': '정릉로', 'pm10Grade': '1', 'o3Value': '0.011'}, {'so2Grade': '1', 'coFlag': None, 'khaiValue': '43', 'so2Value': '0.003', 'coValue': '0.5', 'pm25Flag': None, 'pm10Flag': None, 'o3Grade': '1', 'pm10Value': '27', 'khaiGrade': '1', 'pm25Value': '14', 'sidoName': '서울', 'no2Flag': None, 'no2Grade': '1', 'o3Flag': None, 'pm25Grade': '1', 'so2Flag': None, 'dataTime': '2025-09-26 10:00', 'coGrade': '1', 'no2Value': '0.015', 'stationName': '도봉구', 'pm10Grade': '1', 'o3Value': '0.016'}, {'so2Grade': '1', 'coFlag': None, 'khaiValue': '37', 'so2Value': '0.002', 'coValue': '0.5', 'pm25Flag': None, 'pm10Flag': None, 'o3Grade': '1', 'pm10Value': '28', 'khaiGrade': '1', 'pm25Value': '16', 'sidoName': '서울', 'no2Flag': None, 'no2Grade': '1', 'o3Flag': None, 'pm25Grade': '1', 'so2Flag': None, 'dataTime': '2025-09-26 10:00', 'coGrade': '1', 'no2Value': '0.013', 'stationName': '은평구', 'pm10Grade': '1', 'o3Value': '0.022'}, {'so2Grade': '1', 'coFlag': None, 'khaiValue': '51', 'so2Value': '0.002', 'coValue': '0.6', 'pm25Flag': None, 'pm10Flag': None, 'o3Grade': '1', 'pm10Value': '29', 'khaiGrade': '2', 'pm25Value': '20', 'sidoName': '서울', 'no2Flag': None, 'no2Grade': '1', 'o3Flag': None, 'pm25Grade': '2', 'so2Flag': None, 'dataTime': '2025-09-26 10:00', 'coGrade': '1', 'no2Value': '0.015', 'stationName': '서대문구', 'pm10Grade': '1', 'o3Value': '0.026'}, {'so2Grade': '1', 'coFlag': None, 'khaiValue': '43', 'so2Value': '0.002', 'coValue': '0.5', 'pm25Flag': None, 'pm10Flag': None, 'o3Grade': '1', 'pm10Value': '26', 'khaiGrade': '1', 'pm25Value': '13', 'sidoName': '서울', 'no2Flag': None, 'no2Grade': '1', 'o3Flag': None, 'pm25Grade': '1', 'so2Flag': None, 'dataTime': '2025-09-26 10:00', 'coGrade': '1', 'no2Value': '0.021', 'stationName': '마포구', 'pm10Grade': '1', 'o3Value': '0.024'}, {'so2Grade': '1', 'coFlag': None, 'khaiValue': '54', 'so2Value': '0.003', 'coValue': '0.7', 'pm25Flag': None, 'pm10Flag': None, 'o3Grade': '1', 'pm10Value': '32', 'khaiGrade': '2', 'pm25Value': '18', 'sidoName': '서울', 'no2Flag': None, 'no2Grade': '1', 'o3Flag': None, 'pm25Grade': '2', 'so2Flag': None, 'dataTime': '2025-09-26 10:00', 'coGrade': '1', 'no2Value': '0.030', 'stationName': '신촌로', 'pm10Grade': '2', 'o3Value': '0.015'}, {'so2Grade': '1', 'coFlag': None, 'khaiValue': '54', 'so2Value': '0.002', 'coValue': '0.5', 'pm25Flag': None, 'pm10Flag': None, 'o3Grade': '2', 'pm10Value': '35', 'khaiGrade': '2', 'pm25Value': '17', 'sidoName': '서울', 'no2Flag': None, 'no2Grade': '1', 'o3Flag': None, 'pm25Grade': '2', 'so2Flag': None, 'dataTime': '2025-09-26 10:00', 'coGrade': '1', 'no2Value': '0.016', 'stationName': '강서구', 'pm10Grade': '1', 'o3Value': '0.031'}, {'so2Grade': '1', 'coFlag': None, 'khaiValue': '51', 'so2Value': '0.002', 'coValue': '0.5', 'pm25Flag': None, 'pm10Flag': None, 'o3Grade': '1', 'pm10Value': '35', 'khaiGrade': '2', 'pm25Value': '20', 'sidoName': '서울', 'no2Flag': None, 'no2Grade': '1', 'o3Flag': None, 'pm25Grade': '2', 'so2Flag': None, 'dataTime': '2025-09-26 10:00', 'coGrade': '1', 'no2Value': '0.021', 'stationName': '공항대로', 'pm10Grade': '1', 'o3Value': '0.024'}, {'so2Grade': '1', 'coFlag': None, 'khaiValue': '64', 'so2Value': '0.002', 'coValue': '0.4', 'pm25Flag': None, 'pm10Flag': None, 'o3Grade': '1', 'pm10Value': '39', 'khaiGrade': '2', 'pm25Value': '31', 'sidoName': '서울', 'no2Flag': None, 'no2Grade': '1', 'o3Flag': None, 'pm25Grade': '2', 'so2Flag': None, 'dataTime': '2025-09-26 10:00', 'coGrade': '1', 'no2Value': '0.019', 'stationName': '구로구', 'pm10Grade': '2', 'o3Value': '0.029'}, {'so2Grade': '1', 'coFlag': None, 'khaiValue': '56', 'so2Value': '0.002', 'coValue': '0.5', 'pm25Flag': None, 'pm10Flag': None, 'o3Grade': '1', 'pm10Value': '23', 'khaiGrade': '2', 'pm25Value': '22', 'sidoName': '서울', 'no2Flag': None, 'no2Grade': '1', 'o3Flag': None, 'pm25Grade': '2', 'so2Flag': None, 'dataTime': '2025-09-26 10:00', 'coGrade': '1', 'no2Value': '0.021', 'stationName': '영등포구', 'pm10Grade': '1', 'o3Value': '0.028'}, {'so2Grade': '1', 'coFlag': None, 'khaiValue': '47', 'so2Value': '0.003', 'coValue': '0.5', 'pm25Flag': None, 'pm10Flag': None, 'o3Grade': '1', 'pm10Value': '32', 'khaiGrade': '1', 'pm25Value': '15', 'sidoName': '서울', 'no2Flag': None, 'no2Grade': '1', 'o3Flag': None, 'pm25Grade': '1', 'so2Flag': None, 'dataTime': '2025-09-26 10:00', 'coGrade': '1', 'no2Value': '0.027', 'stationName': '영등포로', 'pm10Grade': '1', 'o3Value': '0.023'}, {'so2Grade': '1', 'coFlag': None, 'khaiValue': '47', 'so2Value': '0.002', 'coValue': '0.5', 'pm25Flag': None, 'pm10Flag': None, 'o3Grade': '1', 'pm10Value': '29', 'khaiGrade': '1', 'pm25Value': '16', 'sidoName': '서울', 'no2Flag': None, 'no2Grade': '1', 'o3Flag': None, 'pm25Grade': '1', 'so2Flag': None, 'dataTime': '2025-09-26 10:00', 'coGrade': '1', 'no2Value': '0.027', 'stationName': '동작구', 'pm10Grade': '1', 'o3Value': '0.015'}, {'so2Grade': '1', 'coFlag': None, 'khaiValue': '59', 'so2Value': '0.002', 'coValue': '0.6', 'pm25Flag': None, 'pm10Flag': None, 'o3Grade': '1', 'pm10Value': '35', 'khaiGrade': '2', 'pm25Value': '13', 'sidoName': '서울', 'no2Flag': None, 'no2Grade': '2', 'o3Flag': None, 'pm25Grade': '1', 'so2Flag': None, 'dataTime': '2025-09-26 10:00', 'coGrade': '1', 'no2Value': '0.035', 'stationName': '동작대로 중앙차로', 'pm10Grade': '2', 'o3Value': '0.009'}, {'so2Grade': '1', 'coFlag': None, 'khaiValue': '51', 'so2Value': '0.002', 'coValue': '0.5', 'pm25Flag': None, 'pm10Flag': None, 'o3Grade': '1', 'pm10Value': '27', 'khaiGrade': '2', 'pm25Value': '16', 'sidoName': '서울', 'no2Flag': None, 'no2Grade': '1', 'o3Flag': None, 'pm25Grade': '2', 'so2Flag': None, 'dataTime': '2025-09-26 10:00', 'coGrade': '1', 'no2Value': '0.024', 'stationName': '관악구', 'pm10Grade': '1', 'o3Value': '0.021'}], 'pageNo': 1, 'numOfRows': 100}, 'header': {'resultMsg': 'NORMAL_CODE', 'resultCode': '00'}}}\n"
     ]
    }
   ],
   "execution_count": 27
  }
 ]
}
