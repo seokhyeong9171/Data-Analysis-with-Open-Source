{
 "cells": [
  {
   "cell_type": "markdown",
   "metadata": {
    "id": "view-in-github",
    "colab_type": "text"
   },
   "source": [
    "<a href=\"https://colab.research.google.com/github/jaehwachung/Data-Analysis-with-Open-Source/blob/main/%EC%98%A4%ED%94%88%EC%86%8C%EC%8A%A4_%EB%8D%B0%EC%9D%B4%ED%84%B0_%EB%B6%84%EC%84%9D_3%EA%B0%95.ipynb\" target=\"_parent\"><img src=\"https://colab.research.google.com/assets/colab-badge.svg\" alt=\"Open In Colab\"/></a>"
   ]
  },
  {
   "cell_type": "markdown",
   "metadata": {
    "id": "DkPKaAsoRq5Q"
   },
   "source": [
    "\n",
    "\n",
    "# 오픈소스 기반 데이터 분석 3강 - 데이터 분석을 위한 파이썬 2\n"
   ]
  },
  {
   "cell_type": "markdown",
   "metadata": {
    "id": "-I7BVVlnRrB0"
   },
   "source": [
    "## 3-1 언패킹"
   ]
  },
  {
   "cell_type": "code",
   "metadata": {
    "id": "2Y2HEiaiRwAI",
    "ExecuteTime": {
     "end_time": "2025-09-24T06:23:21.939990Z",
     "start_time": "2025-09-24T06:23:21.829348Z"
    }
   },
   "source": [
    "from prompt_toolkit.key_binding.bindings.named_commands import uppercase_word\n",
    "\n",
    "coordinates = (10, 20)\n",
    "x, y = coordinates\n",
    "# 튜플 언패킹\n",
    "\n",
    "print(f'x좌표: {x}, y좌표: {y}')\n",
    "\n",
    "rgb = [255, 128, 0]\n",
    "# 리스트 언패킹\n",
    "\n",
    "print(f'빨강: {red}, 초록: {green}, 파랑: {blue}')\n",
    "\n",
    "word = 'ABC'\n",
    "# 문자열 언패킹\n",
    "\n",
    "print(f'첫 번째 문자: {first}, 두 번째 문자: {second}, 세 번째 문자: {third}')"
   ],
   "outputs": [
    {
     "ename": "NameError",
     "evalue": "name 'x' is not defined",
     "output_type": "error",
     "traceback": [
      "\u001B[31m---------------------------------------------------------------------------\u001B[39m",
      "\u001B[31mNameError\u001B[39m                                 Traceback (most recent call last)",
      "\u001B[36mCell\u001B[39m\u001B[36m \u001B[39m\u001B[32mIn[1]\u001B[39m\u001B[32m, line 5\u001B[39m\n\u001B[32m      1\u001B[39m coordinates = (\u001B[32m10\u001B[39m, \u001B[32m20\u001B[39m)\n\u001B[32m      3\u001B[39m \u001B[38;5;66;03m# 튜플 언패킹\u001B[39;00m\n\u001B[32m----> \u001B[39m\u001B[32m5\u001B[39m \u001B[38;5;28mprint\u001B[39m(\u001B[33mf\u001B[39m\u001B[33m'\u001B[39m\u001B[33mx좌표: \u001B[39m\u001B[38;5;132;01m{\u001B[39;00m\u001B[43mx\u001B[49m\u001B[38;5;132;01m}\u001B[39;00m\u001B[33m, y좌표: \u001B[39m\u001B[38;5;132;01m{\u001B[39;00my\u001B[38;5;132;01m}\u001B[39;00m\u001B[33m'\u001B[39m)\n\u001B[32m      7\u001B[39m rgb = [\u001B[32m255\u001B[39m, \u001B[32m128\u001B[39m, \u001B[32m0\u001B[39m]\n\u001B[32m      8\u001B[39m \u001B[38;5;66;03m# 리스트 언패킹\u001B[39;00m\n",
      "\u001B[31mNameError\u001B[39m: name 'x' is not defined"
     ]
    }
   ],
   "execution_count": 1
  },
  {
   "metadata": {
    "ExecuteTime": {
     "end_time": "2025-09-24T06:25:33.230708Z",
     "start_time": "2025-09-24T06:25:33.228354Z"
    }
   },
   "cell_type": "code",
   "source": [
    "temperature_celsius = [25.6, 27.8, 30.5, 22.3, 28.9, 31.2, 24.7]\n",
    "celsius_to_fahrenheit = lambda c: (c * 9/5) + 32\n",
    "temperature_fahrenheit = list(map(celsius_to_fahrenheit, temperature_celsius))\n",
    "print(\"섭씨 온도 데이터:\", temperature_celsius)\n",
    "print(\"화씨 온도 데이터:\", temperature_fahrenheit)"
   ],
   "outputs": [
    {
     "name": "stdout",
     "output_type": "stream",
     "text": [
      "섭씨 온도 데이터: [25.6, 27.8, 30.5, 22.3, 28.9, 31.2, 24.7]\n",
      "화씨 온도 데이터: [78.08, 82.04, 86.9, 72.14, 84.02, 88.16, 76.46]\n"
     ]
    }
   ],
   "execution_count": 2
  },
  {
   "cell_type": "code",
   "metadata": {
    "id": "IO8bsKekR0W_",
    "ExecuteTime": {
     "end_time": "2025-09-24T06:38:07.042561Z",
     "start_time": "2025-09-24T06:38:07.037159Z"
    }
   },
   "source": [
    "def get_dataset_stats(values):\n",
    "  return min(values), max(values), sum(values) / len(values)\n",
    "\n",
    "data = [12, 8, 21, 17, 5, 32, 14]\n",
    "\n",
    "# 함수값 return 언패킹\n",
    "minimum, maximum, average = get_dataset_stats(data)\n",
    "print(f'최솟값: {minimum}, 최댓값: {maximum}, 평균: {average:.2f}')"
   ],
   "outputs": [
    {
     "name": "stdout",
     "output_type": "stream",
     "text": [
      "최솟값: 5, 최댓값: 32, 평균: 15.57\n"
     ]
    }
   ],
   "execution_count": 3
  },
  {
   "cell_type": "code",
   "metadata": {
    "id": "60qOf7uxVdAg",
    "ExecuteTime": {
     "end_time": "2025-09-24T06:40:14.602813Z",
     "start_time": "2025-09-24T06:40:14.600349Z"
    }
   },
   "source": [
    "student_scores = [\n",
    "    ('김철수', 85, 92, 78),\n",
    "    ('이영희', 92, 88, 95),\n",
    "    ('박지민', 75, 83, 90)\n",
    "]\n",
    "\n",
    "# 반복문에서 언패킹 사용\n",
    "for name, database, python, cloud in student_scores :\n",
    "  average = (database + python + cloud) / 3\n",
    "  print(f'{name}의 평균 점수: {average:.1f}')"
   ],
   "outputs": [
    {
     "name": "stdout",
     "output_type": "stream",
     "text": [
      "김철수의 평균 점수: 85.0\n",
      "이영희의 평균 점수: 91.7\n",
      "박지민의 평균 점수: 82.7\n"
     ]
    }
   ],
   "execution_count": 7
  },
  {
   "cell_type": "code",
   "metadata": {
    "id": "JpmgdsW9V0CY",
    "ExecuteTime": {
     "end_time": "2025-09-24T06:41:51.380676Z",
     "start_time": "2025-09-24T06:41:51.378519Z"
    }
   },
   "source": [
    "monthly_sales = [1200, 1350, 1420, 1500, 1300, 1580, 1620, 1700, 1800, 1850, 1900, 2000]\n",
    "\n",
    "# 1월, 2월 및 나머지 월 매출액\n",
    "first, second, *remaining = monthly_sales\n",
    "print(f'1월 판매액: {first}')\n",
    "print(f'2월 판매액: {second}')\n",
    "print(f'나머지 월 판매액: {remaining}')\n",
    "\n",
    "# 1월, 12월 및 나머지 월 매출액\n",
    "first, *middle, last = monthly_sales\n",
    "print(f'첫 달(1월) 판매액: {first}')\n",
    "print(f'마지막 달(12월) 판매액: {last}')\n",
    "print(f'중간 달(2~11월)의 판매액: {middle}')"
   ],
   "outputs": [
    {
     "name": "stdout",
     "output_type": "stream",
     "text": [
      "1월 판매액: 1200\n",
      "2월 판매액: 1350\n",
      "나머지 월 판매액: [1420, 1500, 1300, 1580, 1620, 1700, 1800, 1850, 1900, 2000]\n",
      "첫 달(1월) 판매액: 1200\n",
      "마지막 달(12월) 판매액: 2000\n",
      "중간 달(2~11월)의 판매액: [1350, 1420, 1500, 1300, 1580, 1620, 1700, 1800, 1850, 1900]\n"
     ]
    }
   ],
   "execution_count": 9
  },
  {
   "cell_type": "markdown",
   "metadata": {
    "id": "RLfPaa1ZiqIC"
   },
   "source": [
    "## 3-5 언더스코어"
   ]
  },
  {
   "cell_type": "code",
   "execution_count": null,
   "metadata": {
    "id": "cRC8x3_iW0im"
   },
   "outputs": [],
   "source": [
    "students = [\n",
    "    (20251234, '김철수', '컴퓨터과학', 2, 3.8),\n",
    "    (20265678, '이영희', '생활과학부', 3, 4.2),\n",
    "    (20243456, '박민수', '사회복지학과', 1, 3.5)\n",
    "]\n",
    "\n",
    "# 이름 및 성적 만 출력\n",
    "for    :\n",
    "    print(f'{name}의 성적: {grade}')"
   ]
  },
  {
   "cell_type": "code",
   "metadata": {
    "id": "oYTUmCiXzIvV",
    "ExecuteTime": {
     "end_time": "2025-09-24T07:01:56.167790Z",
     "start_time": "2025-09-24T07:01:56.163917Z"
    }
   },
   "source": [
    "def get_coordinates( ):\n",
    "    return (10, 20, 30)\n",
    "\n",
    "# 함수 return 값 언더스코어 사용\n",
    "_, y, _ = get_coordinates()\n",
    "\n",
    "print(y)"
   ],
   "outputs": [
    {
     "name": "stdout",
     "output_type": "stream",
     "text": [
      "20\n"
     ]
    }
   ],
   "execution_count": 10
  },
  {
   "cell_type": "markdown",
   "metadata": {
    "id": "bkA3HL5QzIvV"
   },
   "source": [
    "## 3-2 예외 처리"
   ]
  },
  {
   "cell_type": "code",
   "execution_count": null,
   "metadata": {
    "id": "IgUsqEAgzIvV"
   },
   "outputs": [],
   "source": [
    "number = int(input('정수를 입력하세요: '))\n",
    "result = 10 / number\n",
    "print(f'결과: {result}')"
   ]
  },
  {
   "cell_type": "code",
   "metadata": {
    "id": "sGaFzT-WzdQF",
    "ExecuteTime": {
     "end_time": "2025-09-24T07:02:57.812988Z",
     "start_time": "2025-09-24T07:02:55.322627Z"
    }
   },
   "source": [
    "number = int(input('정수를 입력하세요: '))\n",
    "\n",
    "# try 문\n",
    "try:\n",
    "    result = 10 / number\n",
    "    print(f'결과: {result}')\n",
    "\n",
    "# except 문\n",
    "except ZeroDivisionError:\n",
    "    print('0으로 나눌 수 없습니다.')\n",
    "except ValueError:\n",
    "    print(\"유효한 숫자를 입력해야 합니다.\")"
   ],
   "outputs": [
    {
     "name": "stdout",
     "output_type": "stream",
     "text": [
      "0으로 나눌 수 없습니다.\n"
     ]
    }
   ],
   "execution_count": 12
  },
  {
   "cell_type": "code",
   "execution_count": null,
   "metadata": {
    "id": "aJycqfJvzdGc"
   },
   "outputs": [],
   "source": [
    "# try 문\n",
    "number = int(input('숫자를 입력하세요: '))\n",
    "result = 10 / number\n",
    "\n",
    "# except 문 1\n",
    "print('유효한 숫자를 입력해야 합니다.')\n",
    "\n",
    "# except 문 2\n",
    "print('0으로 나눌 수 없습니다.')\n",
    "\n",
    "print(f'결과: {result}')"
   ]
  },
  {
   "cell_type": "code",
   "metadata": {
    "id": "lPcWWLiJ0ws4",
    "ExecuteTime": {
     "end_time": "2025-09-24T07:14:45.401391Z",
     "start_time": "2025-09-24T07:14:45.384627Z"
    }
   },
   "source": [
    "# try 문\n",
    "try:\n",
    "    file = open('data.csv', 'r')\n",
    "    content = file.read( )\n",
    "    print(content)\n",
    "\n",
    "# except 문\n",
    "except:\n",
    "    print('파일을 찾을 수 없습니다.')\n",
    "\n",
    "# fianlly 블럭\n",
    "finally:\n",
    "    print('파일 작업 종료.')\n",
    "    file.close()"
   ],
   "outputs": [
    {
     "name": "stdout",
     "output_type": "stream",
     "text": [
      "파일을 찾을 수 없습니다.\n",
      "파일 작업 종료.\n"
     ]
    },
    {
     "ename": "NameError",
     "evalue": "name 'file' is not defined",
     "output_type": "error",
     "traceback": [
      "\u001B[31m---------------------------------------------------------------------------\u001B[39m",
      "\u001B[31mNameError\u001B[39m                                 Traceback (most recent call last)",
      "\u001B[36mCell\u001B[39m\u001B[36m \u001B[39m\u001B[32mIn[13]\u001B[39m\u001B[32m, line 14\u001B[39m\n\u001B[32m     11\u001B[39m \u001B[38;5;66;03m# fianlly 블럭\u001B[39;00m\n\u001B[32m     12\u001B[39m \u001B[38;5;28;01mfinally\u001B[39;00m:\n\u001B[32m     13\u001B[39m     \u001B[38;5;28mprint\u001B[39m(\u001B[33m'\u001B[39m\u001B[33m파일 작업 종료.\u001B[39m\u001B[33m'\u001B[39m)\n\u001B[32m---> \u001B[39m\u001B[32m14\u001B[39m     \u001B[43mfile\u001B[49m.close()\n",
      "\u001B[31mNameError\u001B[39m: name 'file' is not defined"
     ]
    }
   ],
   "execution_count": 13
  },
  {
   "cell_type": "markdown",
   "metadata": {
    "id": "l0YVL4ArzIvV"
   },
   "source": [
    "## 3-3 함수형 프로그래밍"
   ]
  },
  {
   "cell_type": "code",
   "metadata": {
    "id": "Syg5knhezIvV",
    "ExecuteTime": {
     "end_time": "2025-09-24T07:18:27.387277Z",
     "start_time": "2025-09-24T07:18:27.384986Z"
    }
   },
   "source": [
    "employees = {\n",
    "    '이지혜': 3000000,\n",
    "    '구민준': 5000000,\n",
    "    '방서연': 4100000\n",
    "}\n",
    "\n",
    "# 함수 정의: salary * 1.1\n",
    "adjust_salary = lambda salary: salary * 1.1\n",
    "updated_salaries = {name: int(adjust_salary(salary)) for name, salary in employees.items()}\n",
    "# 급여 인상\n",
    "\n",
    "print(updated_salaries)"
   ],
   "outputs": [
    {
     "name": "stdout",
     "output_type": "stream",
     "text": [
      "{'이지혜': 3300000, '구민준': 5500000, '방서연': 4510000}\n"
     ]
    }
   ],
   "execution_count": 15
  },
  {
   "cell_type": "code",
   "metadata": {
    "id": "KM0psbppzIvV",
    "ExecuteTime": {
     "end_time": "2025-09-24T07:20:19.732883Z",
     "start_time": "2025-09-24T07:20:19.730294Z"
    }
   },
   "source": [
    "temperature_celsius = [25.6, 27.8, 30.5, 22.3, 28.9, 31.2, 24.7]\n",
    "\n",
    "# 함수 정의: 섭씨 -> 화씨\n",
    "cel_to_fahrenheit = lambda c: (c * 9/5) + 32\n",
    "# 온도 변환\n",
    "temperature_fahrenheit = list(map(cel_to_fahrenheit, temperature_celsius))\n",
    "\n",
    "print('섭씨 온도 데이터:', temperature_celsius)\n",
    "print('화씨 온도로 변환:', temperature_fahrenheit)"
   ],
   "outputs": [
    {
     "name": "stdout",
     "output_type": "stream",
     "text": [
      "섭씨 온도 데이터: [25.6, 27.8, 30.5, 22.3, 28.9, 31.2, 24.7]\n",
      "화씨 온도로 변환: [78.08, 82.04, 86.9, 72.14, 84.02, 88.16, 76.46]\n"
     ]
    }
   ],
   "execution_count": 16
  },
  {
   "cell_type": "code",
   "metadata": {
    "id": "rG3nqqfDzIvW",
    "ExecuteTime": {
     "end_time": "2025-09-24T07:21:51.839829Z",
     "start_time": "2025-09-24T07:21:51.837722Z"
    }
   },
   "source": [
    "words = ['python', 'data', 'analysis']\n",
    "\n",
    "# 함수 정의 및 대문자화\n",
    "word_to_upper = lambda word: word.upper()\n",
    "uppercase_words = list(map(word_to_upper, words))\n",
    "\n",
    "print(uppercase_words)"
   ],
   "outputs": [
    {
     "name": "stdout",
     "output_type": "stream",
     "text": [
      "['PYTHON', 'DATA', 'ANALYSIS']\n"
     ]
    }
   ],
   "execution_count": 17
  },
  {
   "cell_type": "code",
   "execution_count": null,
   "metadata": {
    "id": "9tFlZojhzIvW"
   },
   "outputs": [],
   "source": [
    "employees = [\n",
    "    {'name': '김지원', 'salary': 3700000},\n",
    "    {'name': '박민준', 'salary': 7000000},\n",
    "    {'name': '이서연', 'salary': 4400000},\n",
    "    {'name': '정현우', 'salary': 3500000}\n",
    "]\n",
    "\n",
    "# salary * 1.1\n",
    "\n",
    "\n",
    "print('\\n급여 인상 후:')\n",
    "\n",
    "for emp in updated_employees:\n",
    "    print(f'{emp['name']}: {int(emp['salary']):,}원')"
   ]
  },
  {
   "cell_type": "code",
   "execution_count": null,
   "metadata": {
    "id": "WHQxVdiuzIvW"
   },
   "outputs": [],
   "source": [
    "numbers = [10, 15, 20, 25, 30]\n",
    "\n",
    "# 짝수 필터링\n",
    "\n",
    "\n",
    "print(even_numbers)"
   ]
  },
  {
   "cell_type": "code",
   "metadata": {
    "id": "1E-RQnBfzIvW",
    "ExecuteTime": {
     "end_time": "2025-09-24T07:25:07.957949Z",
     "start_time": "2025-09-24T07:25:07.954867Z"
    }
   },
   "source": [
    "osda_students = [\n",
    "    {'name': '김지원', 'score': 85},\n",
    "    {'name': '이민준', 'score': 65},\n",
    "    {'name': '박서연', 'score': 90},\n",
    "    {'name': '정현우', 'score': 55},\n",
    "    {'name': '최예은', 'score': 78}\n",
    "]\n",
    "\n",
    "# 70점 이상 학생 목록 생성\n",
    "passed_students = list(filter(lambda student: student['score'] >= 70, osda_students))\n",
    "\n",
    "for student in passed_students:\n",
    "    print(f'이름: {student[\"name\"]}, 점수: {student[\"score\"]}')"
   ],
   "outputs": [
    {
     "name": "stdout",
     "output_type": "stream",
     "text": [
      "이름: 김지원, 점수: 85\n",
      "이름: 박서연, 점수: 90\n",
      "이름: 최예은, 점수: 78\n"
     ]
    }
   ],
   "execution_count": 18
  },
  {
   "cell_type": "code",
   "metadata": {
    "id": "1sVaIuwFzIvW",
    "ExecuteTime": {
     "end_time": "2025-09-24T07:37:38.769380Z",
     "start_time": "2025-09-24T07:37:38.765494Z"
    }
   },
   "source": [
    "from functools import reduce\n",
    "\n",
    "numbers = [3, 7, 2, 9, 5]\n",
    "\n",
    "# 최대값 생성\n",
    "max_value = reduce(lambda x, y: x if x > y else y, numbers)\n",
    "\n",
    "print(max_value)"
   ],
   "outputs": [
    {
     "name": "stdout",
     "output_type": "stream",
     "text": [
      "9\n"
     ]
    }
   ],
   "execution_count": 19
  }
 ],
 "metadata": {
  "colab": {
   "provenance": [],
   "include_colab_link": true
  },
  "kernelspec": {
   "display_name": "Python 3 (ipykernel)",
   "name": "python3",
   "language": "python"
  },
  "language_info": {
   "name": "python"
  }
 },
 "nbformat": 4,
 "nbformat_minor": 0
}
