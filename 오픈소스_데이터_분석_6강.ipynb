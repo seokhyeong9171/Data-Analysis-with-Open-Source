{
 "nbformat": 4,
 "nbformat_minor": 0,
 "metadata": {
  "colab": {
   "provenance": [],
   "include_colab_link": true
  },
  "kernelspec": {
   "name": "python3",
   "display_name": "Python 3 (ipykernel)",
   "language": "python"
  },
  "language_info": {
   "name": "python"
  }
 },
 "cells": [
  {
   "cell_type": "markdown",
   "metadata": {
    "id": "view-in-github",
    "colab_type": "text"
   },
   "source": [
    "<a href=\"https://colab.research.google.com/github/jaehwachung/Data-Analysis-with-Open-Source/blob/main/%EC%98%A4%ED%94%88%EC%86%8C%EC%8A%A4_%EB%8D%B0%EC%9D%B4%ED%84%B0_%EB%B6%84%EC%84%9D_6%EA%B0%95.ipynb\" target=\"_parent\"><img src=\"https://colab.research.google.com/assets/colab-badge.svg\" alt=\"Open In Colab\"/></a>"
   ]
  },
  {
   "cell_type": "markdown",
   "source": [
    "# 오픈소스 기반 데이터 분석 6강 - 데이터 전처리 1"
   ],
   "metadata": {
    "id": "1Ld5KWf86hIu"
   }
  },
  {
   "cell_type": "markdown",
   "source": [
    "### 6-1 데이터 훑어보기"
   ],
   "metadata": {
    "id": "XqpCWf2063pN"
   }
  },
  {
   "cell_type": "code",
   "source": [
    "import pandas as pd\n",
    "import numpy as np\n",
    "\n",
    "data = {\n",
    "    'name': ['김민수', '이지영', '박준호', '최서연', '정도윤'],\n",
    "    'age': [25, 30, 28, 22, 35],\n",
    "    'city': ['서울', '부산', '인천', '서울', '대전'],\n",
    "    'score': [90, 85, 95, 80, np.nan]\n",
    "}\n",
    "df = pd.DataFrame(data)\n",
    "\n",
    "# 데이터 측정\n",
    "# print(df.describe())\n",
    "\n",
    "# 모든 데이터 타입 측정\n",
    "df.describe(include='all')\n",
    "\n",
    "# 수치형 데이터 측정\n",
    "df.describe(include=[np.number])\n",
    "\n",
    "# 범주형 데이터 측정\n",
    "df.describe(include=['object'])\n",
    "\n",
    "# 특정 열 분석\n",
    "df['score'].describe()\n"
   ],
   "metadata": {
    "id": "TKsIqpFtYVVS",
    "ExecuteTime": {
     "end_time": "2025-09-26T23:17:09.722078Z",
     "start_time": "2025-09-26T23:17:09.711198Z"
    }
   },
   "outputs": [
    {
     "data": {
      "text/plain": [
       "count     4.000000\n",
       "mean     87.500000\n",
       "std       6.454972\n",
       "min      80.000000\n",
       "25%      83.750000\n",
       "50%      87.500000\n",
       "75%      91.250000\n",
       "max      95.000000\n",
       "Name: score, dtype: float64"
      ]
     },
     "execution_count": 6,
     "metadata": {},
     "output_type": "execute_result"
    }
   ],
   "execution_count": 6
  },
  {
   "cell_type": "markdown",
   "source": [
    "### 6-2 DataFrame 열 선택 및 **조작**"
   ],
   "metadata": {
    "id": "HezV4iK1BmrB"
   }
  },
  {
   "cell_type": "code",
   "source": [
    "import pandas as pd\n",
    "\n",
    "data = {\n",
    "    \"이름\": [\"김철수\", \"이영희\", \"박민수\", \"최지훈\", \"정소희\"],\n",
    "    \"학년\": [1, 2, 3, 4, 2],\n",
    "    \"학점\": [4.2, 3.8, 4.5, 3.9, 3.5],\n",
    "    \"학과\": [\"컴퓨터공학\", \"경영학\", \"전자공학\", \"의학\", \"심리학\"],\n",
    "    \"동아리\": [\"프로그래밍\", \"독서토론\", \"로봇공학\", \"봉사활동\", \"음악감상\"]\n",
    "}\n",
    "df = pd.DataFrame(data)\n",
    "\n",
    "# 특정 열 선택\n",
    "selected_df = df[['이름', '학과', '학점']]\n",
    "selected_df\n",
    "\n",
    "# DataFrame 열순서 변경\n",
    "reordered_cols = df[['학과', '이름', '학점']]\n",
    "reordered_cols\n",
    "\n",
    "# DataFrame 열이름 변경\n",
    "df_renamed = df.rename(columns={'이름': '학생명', '학점': '평점', '동아리': '과외활동'})\n",
    "df_renamed\n",
    "\n"
   ],
   "metadata": {
    "id": "23DbuKjzYcpS",
    "ExecuteTime": {
     "end_time": "2025-09-26T23:22:23.629741Z",
     "start_time": "2025-09-26T23:22:23.623821Z"
    }
   },
   "outputs": [
    {
     "data": {
      "text/plain": [
       "   학생명  학년   평점     학과   과외활동\n",
       "0  김철수   1  4.2  컴퓨터공학  프로그래밍\n",
       "1  이영희   2  3.8    경영학   독서토론\n",
       "2  박민수   3  4.5   전자공학   로봇공학\n",
       "3  최지훈   4  3.9     의학   봉사활동\n",
       "4  정소희   2  3.5    심리학   음악감상"
      ],
      "text/html": [
       "<div>\n",
       "<style scoped>\n",
       "    .dataframe tbody tr th:only-of-type {\n",
       "        vertical-align: middle;\n",
       "    }\n",
       "\n",
       "    .dataframe tbody tr th {\n",
       "        vertical-align: top;\n",
       "    }\n",
       "\n",
       "    .dataframe thead th {\n",
       "        text-align: right;\n",
       "    }\n",
       "</style>\n",
       "<table border=\"1\" class=\"dataframe\">\n",
       "  <thead>\n",
       "    <tr style=\"text-align: right;\">\n",
       "      <th></th>\n",
       "      <th>학생명</th>\n",
       "      <th>학년</th>\n",
       "      <th>평점</th>\n",
       "      <th>학과</th>\n",
       "      <th>과외활동</th>\n",
       "    </tr>\n",
       "  </thead>\n",
       "  <tbody>\n",
       "    <tr>\n",
       "      <th>0</th>\n",
       "      <td>김철수</td>\n",
       "      <td>1</td>\n",
       "      <td>4.2</td>\n",
       "      <td>컴퓨터공학</td>\n",
       "      <td>프로그래밍</td>\n",
       "    </tr>\n",
       "    <tr>\n",
       "      <th>1</th>\n",
       "      <td>이영희</td>\n",
       "      <td>2</td>\n",
       "      <td>3.8</td>\n",
       "      <td>경영학</td>\n",
       "      <td>독서토론</td>\n",
       "    </tr>\n",
       "    <tr>\n",
       "      <th>2</th>\n",
       "      <td>박민수</td>\n",
       "      <td>3</td>\n",
       "      <td>4.5</td>\n",
       "      <td>전자공학</td>\n",
       "      <td>로봇공학</td>\n",
       "    </tr>\n",
       "    <tr>\n",
       "      <th>3</th>\n",
       "      <td>최지훈</td>\n",
       "      <td>4</td>\n",
       "      <td>3.9</td>\n",
       "      <td>의학</td>\n",
       "      <td>봉사활동</td>\n",
       "    </tr>\n",
       "    <tr>\n",
       "      <th>4</th>\n",
       "      <td>정소희</td>\n",
       "      <td>2</td>\n",
       "      <td>3.5</td>\n",
       "      <td>심리학</td>\n",
       "      <td>음악감상</td>\n",
       "    </tr>\n",
       "  </tbody>\n",
       "</table>\n",
       "</div>"
      ]
     },
     "execution_count": 13,
     "metadata": {},
     "output_type": "execute_result"
    }
   ],
   "execution_count": 13
  },
  {
   "cell_type": "markdown",
   "source": [
    "### 6-3 DataFrame 행 선택"
   ],
   "metadata": {
    "id": "lZ2fkkq7B9NN"
   }
  },
  {
   "cell_type": "code",
   "source": [
    "import pandas as pd\n",
    "\n",
    "data = {\n",
    "    \"이름\": [\"김철수\", \"이영희\", \"박민수\", \"최지훈\", \"정소희\"],\n",
    "    \"학년\": [1, 2, 3, 4, 2],\n",
    "    \"학점\": [4.2, 3.8, 4.5, 3.9, 3.5],\n",
    "    \"학과\": [\"컴퓨터공학\", \"경영학\", \"전자공학\", \"의학\", \"심리학\"],\n",
    "    \"동아리\": [\"프로그래밍\", \"독서토론\", \"로봇공학\", \"봉사활동\", \"음악감상\"]\n",
    "}\n",
    "\n",
    "#DataFrame 인덱스 지정\n",
    "df = pd.DataFrame(data)\n",
    "df = df.set_index('이름')\n",
    "\n",
    "#DataFrame 행 선택\n",
    "df.loc['김철수']\n",
    "df.loc[['김철수', '이영희']]\n",
    "df.loc['김철수':'박민수']\n",
    "\n",
    "#DataFrame 위치 기반 행 선택\n",
    "df.iloc[1]\n",
    "df.iloc[[2, 3]]\n",
    "df.iloc[1:3]\n",
    "\n",
    "#DataFrame 조건 기반 선택\n",
    "df.loc[[True, False, True, False, False]]\n",
    "df.loc[df['학점'] >= 4.0]\n",
    "df[df['학년'] == 2]\n"
   ],
   "metadata": {
    "id": "Iztna0YTYe_e",
    "ExecuteTime": {
     "end_time": "2025-09-26T23:41:08.786241Z",
     "start_time": "2025-09-26T23:41:08.779317Z"
    }
   },
   "outputs": [
    {
     "data": {
      "text/plain": [
       "     학년   학점   학과   동아리\n",
       "이름                     \n",
       "이영희   2  3.8  경영학  독서토론\n",
       "정소희   2  3.5  심리학  음악감상"
      ],
      "text/html": [
       "<div>\n",
       "<style scoped>\n",
       "    .dataframe tbody tr th:only-of-type {\n",
       "        vertical-align: middle;\n",
       "    }\n",
       "\n",
       "    .dataframe tbody tr th {\n",
       "        vertical-align: top;\n",
       "    }\n",
       "\n",
       "    .dataframe thead th {\n",
       "        text-align: right;\n",
       "    }\n",
       "</style>\n",
       "<table border=\"1\" class=\"dataframe\">\n",
       "  <thead>\n",
       "    <tr style=\"text-align: right;\">\n",
       "      <th></th>\n",
       "      <th>학년</th>\n",
       "      <th>학점</th>\n",
       "      <th>학과</th>\n",
       "      <th>동아리</th>\n",
       "    </tr>\n",
       "    <tr>\n",
       "      <th>이름</th>\n",
       "      <th></th>\n",
       "      <th></th>\n",
       "      <th></th>\n",
       "      <th></th>\n",
       "    </tr>\n",
       "  </thead>\n",
       "  <tbody>\n",
       "    <tr>\n",
       "      <th>이영희</th>\n",
       "      <td>2</td>\n",
       "      <td>3.8</td>\n",
       "      <td>경영학</td>\n",
       "      <td>독서토론</td>\n",
       "    </tr>\n",
       "    <tr>\n",
       "      <th>정소희</th>\n",
       "      <td>2</td>\n",
       "      <td>3.5</td>\n",
       "      <td>심리학</td>\n",
       "      <td>음악감상</td>\n",
       "    </tr>\n",
       "  </tbody>\n",
       "</table>\n",
       "</div>"
      ]
     },
     "execution_count": 28,
     "metadata": {},
     "output_type": "execute_result"
    }
   ],
   "execution_count": 28
  },
  {
   "cell_type": "markdown",
   "source": [
    "### 6-4 DataFrame 정렬"
   ],
   "metadata": {
    "id": "EX3RYr5jCfka"
   }
  },
  {
   "cell_type": "markdown",
   "source": [],
   "metadata": {
    "id": "G_mEibnYC_tQ"
   }
  },
  {
   "cell_type": "code",
   "source": [
    "import pandas as pd\n",
    "\n",
    "data = {\n",
    "    \"이름\": [\"김철수\", \"이영희\", \"박민수\", \"최지훈\", \"정소희\"],\n",
    "    \"학년\": [1, 2, 3, 4, 2],\n",
    "    \"학점\": [4.2, 3.8, 4.5, 3.9, 3.5],\n",
    "    \"학과\": [\"컴퓨터공학\", \"경영학\", \"전자공학\", \"의학\", \"심리학\"],\n",
    "    \"동아리\": [\"프로그래밍\", \"독서토론\", \"로봇공학\", \"봉사활동\", \"음악감상\"]\n",
    "}\n",
    "\n",
    "#DataFrame 인덱스 지정\n",
    "df = pd.DataFrame(data).set_index('이름')\n",
    "\n",
    "#DataFrame 단일 열 오름차순, 내림차순 정렬\n",
    "df.sort_values(by='학점')\n",
    "df.sort_values(by='학점', ascending=False)\n",
    "\n",
    "#DataFrame 복수 열 오름차순, 내림차순 정렬\n",
    "df.sort_values(by=['학년', '학점'], ascending=[True, False])\n",
    "\n",
    "#DataFrame 인덱스 기준 오른차순, 내림차순 정렬\n",
    "df.sort_index(ascending=False)\n"
   ],
   "metadata": {
    "id": "T9G-46ITYx7b",
    "ExecuteTime": {
     "end_time": "2025-09-27T00:03:06.787065Z",
     "start_time": "2025-09-27T00:03:06.779189Z"
    }
   },
   "outputs": [
    {
     "data": {
      "text/plain": [
       "     학년   학점     학과    동아리\n",
       "이름                        \n",
       "최지훈   4  3.9     의학   봉사활동\n",
       "정소희   2  3.5    심리학   음악감상\n",
       "이영희   2  3.8    경영학   독서토론\n",
       "박민수   3  4.5   전자공학   로봇공학\n",
       "김철수   1  4.2  컴퓨터공학  프로그래밍"
      ],
      "text/html": [
       "<div>\n",
       "<style scoped>\n",
       "    .dataframe tbody tr th:only-of-type {\n",
       "        vertical-align: middle;\n",
       "    }\n",
       "\n",
       "    .dataframe tbody tr th {\n",
       "        vertical-align: top;\n",
       "    }\n",
       "\n",
       "    .dataframe thead th {\n",
       "        text-align: right;\n",
       "    }\n",
       "</style>\n",
       "<table border=\"1\" class=\"dataframe\">\n",
       "  <thead>\n",
       "    <tr style=\"text-align: right;\">\n",
       "      <th></th>\n",
       "      <th>학년</th>\n",
       "      <th>학점</th>\n",
       "      <th>학과</th>\n",
       "      <th>동아리</th>\n",
       "    </tr>\n",
       "    <tr>\n",
       "      <th>이름</th>\n",
       "      <th></th>\n",
       "      <th></th>\n",
       "      <th></th>\n",
       "      <th></th>\n",
       "    </tr>\n",
       "  </thead>\n",
       "  <tbody>\n",
       "    <tr>\n",
       "      <th>최지훈</th>\n",
       "      <td>4</td>\n",
       "      <td>3.9</td>\n",
       "      <td>의학</td>\n",
       "      <td>봉사활동</td>\n",
       "    </tr>\n",
       "    <tr>\n",
       "      <th>정소희</th>\n",
       "      <td>2</td>\n",
       "      <td>3.5</td>\n",
       "      <td>심리학</td>\n",
       "      <td>음악감상</td>\n",
       "    </tr>\n",
       "    <tr>\n",
       "      <th>이영희</th>\n",
       "      <td>2</td>\n",
       "      <td>3.8</td>\n",
       "      <td>경영학</td>\n",
       "      <td>독서토론</td>\n",
       "    </tr>\n",
       "    <tr>\n",
       "      <th>박민수</th>\n",
       "      <td>3</td>\n",
       "      <td>4.5</td>\n",
       "      <td>전자공학</td>\n",
       "      <td>로봇공학</td>\n",
       "    </tr>\n",
       "    <tr>\n",
       "      <th>김철수</th>\n",
       "      <td>1</td>\n",
       "      <td>4.2</td>\n",
       "      <td>컴퓨터공학</td>\n",
       "      <td>프로그래밍</td>\n",
       "    </tr>\n",
       "  </tbody>\n",
       "</table>\n",
       "</div>"
      ]
     },
     "execution_count": 33,
     "metadata": {},
     "output_type": "execute_result"
    }
   ],
   "execution_count": 33
  },
  {
   "cell_type": "markdown",
   "source": [
    "## 6-5 실습 시나리오 - Kaggle을 활용한 데이터 수집 및 측정"
   ],
   "metadata": {
    "id": "6ui5L5oe8HH-"
   }
  },
  {
   "cell_type": "markdown",
   "source": [
    "- Kaggle([https://www.kaggle.com](https://www.kaggle.com)) 회원 가입\n",
    "- Kaggle 접근 토큰 생성(API 키)\n"
   ],
   "metadata": {
    "id": "kX0puWUc8aNR"
   }
  },
  {
   "cell_type": "markdown",
   "source": [
    "### Kaggle API 키 업로드"
   ],
   "metadata": {
    "id": "RtoqM2Mc98fS"
   }
  },
  {
   "cell_type": "code",
   "source": [
    "from google.colab import files\n",
    "files.upload()"
   ],
   "metadata": {
    "id": "OlIwjX8vaAF6",
    "ExecuteTime": {
     "end_time": "2025-09-27T00:06:32.934405Z",
     "start_time": "2025-09-27T00:06:32.920154Z"
    }
   },
   "outputs": [
    {
     "ename": "ModuleNotFoundError",
     "evalue": "No module named 'google'",
     "output_type": "error",
     "traceback": [
      "\u001B[31m---------------------------------------------------------------------------\u001B[39m",
      "\u001B[31mModuleNotFoundError\u001B[39m                       Traceback (most recent call last)",
      "\u001B[36mCell\u001B[39m\u001B[36m \u001B[39m\u001B[32mIn[34]\u001B[39m\u001B[32m, line 1\u001B[39m\n\u001B[32m----> \u001B[39m\u001B[32m1\u001B[39m \u001B[38;5;28;01mfrom\u001B[39;00m\u001B[38;5;250m \u001B[39m\u001B[34;01mgoogle\u001B[39;00m\u001B[34;01m.\u001B[39;00m\u001B[34;01mcolab\u001B[39;00m\u001B[38;5;250m \u001B[39m\u001B[38;5;28;01mimport\u001B[39;00m files\n\u001B[32m      2\u001B[39m files.upload()\n",
      "\u001B[31mModuleNotFoundError\u001B[39m: No module named 'google'"
     ]
    }
   ],
   "execution_count": 34
  },
  {
   "cell_type": "markdown",
   "source": [
    "### Kaggle API 키 사용을 위한 Colab 환경 설정"
   ],
   "metadata": {
    "id": "V3YAacMY-KAV"
   }
  },
  {
   "cell_type": "code",
   "source": [
    "!mkdir -p ~/.kaggle\n",
    "!cp kaggle.json ~/.kaggle/\n",
    "!chmod 600 ~/.kaggle/kaggle.json"
   ],
   "metadata": {
    "id": "9bknQa2TaDRD"
   },
   "execution_count": null,
   "outputs": []
  },
  {
   "cell_type": "markdown",
   "source": [
    "### Kaggle 데이터셋 다운로드"
   ],
   "metadata": {
    "id": "Dv2PN16j-ip4"
   }
  },
  {
   "cell_type": "code",
   "source": [
    "!kaggle competitions download –c store-sales-time-series-forecasting\n",
    "\n",
    "!unzip store-sales-time-series-forecasting.zip"
   ],
   "metadata": {
    "id": "nemk0pNOaEvh"
   },
   "execution_count": null,
   "outputs": []
  },
  {
   "cell_type": "markdown",
   "source": [
    "### Kaggle 데이터셋 DataFrame 로드 및 살펴보기"
   ],
   "metadata": {
    "id": "o31gdHgx-pik"
   }
  },
  {
   "cell_type": "code",
   "source": [
    "import pandas as pd\n",
    "\n",
    "# Grocery Sales 데이터 DataFrame 로드\n",
    "\n",
    "# 판매 데이터 살펴보기\n"
   ],
   "metadata": {
    "id": "QSoBpU9caKQ-"
   },
   "execution_count": null,
   "outputs": []
  },
  {
   "cell_type": "markdown",
   "source": [
    "### Kaggle 데이터셋 측정"
   ],
   "metadata": {
    "id": "-B_aRee0_CXf"
   }
  },
  {
   "cell_type": "code",
   "source": [
    "# 판매 데이터 기본 통계량\n",
    "\n",
    "# 매장 데이터 기본 정보\n",
    "\n",
    "# 원유 가격 데이터 기본 정보\n"
   ],
   "metadata": {
    "id": "d00dD1V0aNoO"
   },
   "execution_count": null,
   "outputs": []
  }
 ]
}
