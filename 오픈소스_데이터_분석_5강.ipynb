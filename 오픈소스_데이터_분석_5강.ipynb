{
 "nbformat": 4,
 "nbformat_minor": 0,
 "metadata": {
  "colab": {
   "provenance": [],
   "include_colab_link": true
  },
  "kernelspec": {
   "name": "python3",
   "display_name": "Python 3 (ipykernel)",
   "language": "python"
  },
  "language_info": {
   "name": "python"
  }
 },
 "cells": [
  {
   "cell_type": "markdown",
   "metadata": {
    "id": "view-in-github",
    "colab_type": "text"
   },
   "source": [
    "<a href=\"https://colab.research.google.com/github/jaehwachung/Data-Analysis-with-Open-Source/blob/main/%EC%98%A4%ED%94%88%EC%86%8C%EC%8A%A4_%EB%8D%B0%EC%9D%B4%ED%84%B0_%EB%B6%84%EC%84%9D_5%EA%B0%95.ipynb\" target=\"_parent\"><img src=\"https://colab.research.google.com/assets/colab-badge.svg\" alt=\"Open In Colab\"/></a>"
   ]
  },
  {
   "cell_type": "markdown",
   "source": [
    "# 오픈소스 기반 데이터 분석 5강 - 데이터 저장"
   ],
   "metadata": {
    "id": "O4kC4JMknVnK"
   }
  },
  {
   "cell_type": "markdown",
   "source": [
    "## 5-1 CSV 형식 저장"
   ],
   "metadata": {
    "id": "8DfV0cZLqj_s"
   }
  },
  {
   "cell_type": "code",
   "source": [
    "import pandas as pd\n",
    "\n",
    "data = {\n",
    "    'student_id': [101, 102, 103, 104, 105],\n",
    "    'database_score': [85, 76, 92, 63, 88],\n",
    "    'cloudcomputing_score': [78, 82, 95, 70, 84],\n",
    "    'python_score': [92, 78, 85, 75, 91],\n",
    "    'watch_rate': [0.95, 0.87, 0.99, 0.80, 0.93]\n",
    "}\n",
    "## DataFrame 생성\n",
    "df = pd.DataFrame(data)\n",
    "df\n",
    "## CSV 형식 저장\n",
    "df.to_csv('student_analysis.csv', encoding='utf-8', index=False)\n"
   ],
   "metadata": {
    "id": "DztLRI9gW2lk",
    "ExecuteTime": {
     "end_time": "2025-09-26T04:19:50.441108Z",
     "start_time": "2025-09-26T04:19:50.437492Z"
    }
   },
   "outputs": [],
   "execution_count": 6
  },
  {
   "cell_type": "markdown",
   "source": [
    "## 5-2 JSON 형식 저장"
   ],
   "metadata": {
    "id": "CSABzaf3q8XU"
   }
  },
  {
   "cell_type": "code",
   "source": [
    "### 라이브러리 임포트\n",
    "import json\n",
    "import pandas as pd\n",
    "\n",
    "data = {\n",
    "    \"이름\": \"홍길동\",\n",
    "    \"나이\": 25,\n",
    "    \"거주지\": \"서울\",\n",
    "    \"관심사\": [\"프로그래밍\", \"데이터 분석\", \"여행\"]\n",
    "}\n",
    "\n",
    "## json.dump를 이용한 저장\n",
    "with open('output.json', mode='w', encoding='utf-8') as f:\n",
    "    json.dump(data, f, indent=4, ensure_ascii=False)\n",
    "\n",
    "## DataFrame을 이용한 저장\n",
    "df = pd.DataFrame([data])\n",
    "df.to_json('output_df.json', orient='columns', indent=4, force_ascii=False)"
   ],
   "metadata": {
    "id": "7bAgRpizW7Vj",
    "ExecuteTime": {
     "end_time": "2025-09-26T04:25:14.008731Z",
     "start_time": "2025-09-26T04:25:14.005615Z"
    }
   },
   "outputs": [],
   "execution_count": 15
  },
  {
   "cell_type": "markdown",
   "source": [
    "## 5-3 Pandas Dataframe 데이터 추출"
   ],
   "metadata": {
    "id": "NMlsQDHtrA_x"
   }
  },
  {
   "cell_type": "code",
   "source": [
    "import pandas as pd\n",
    "\n",
    "data = {\n",
    "    \"이름\": [\"김철수\", \"이영희\", \"박민수\", \"최지훈\", \"정소희\"],\n",
    "    \"학년\": [1, 2, 3, 4, 2],\n",
    "    \"학점\": [4.2, 3.8, 4.5, 3.9, 3.5],\n",
    "    \"학과\": [\"컴퓨터학\", \"경영학\", \"농학\", \"교육학\", \"영어영문학\"],\n",
    "    \"동아리\": [\"프로그래밍\", \"독서토론\", \"로봇공학\", \"봉사활동\", \"음악감상\"]\n",
    "}\n",
    "df = pd.DataFrame(data)\n",
    "df\n",
    "\n",
    "## DataFrame 인덱스 출력\n",
    "print(df.index)\n",
    "\n",
    "## DataFrame 컬럼 출력\n",
    "print(df.columns)\n",
    "\n",
    "## DataFrame 행 출력\n",
    "print(df.values.tolist())\n",
    "\n",
    "## DataFrame 값 출력\n",
    "print(df.values.flatten())\n"
   ],
   "metadata": {
    "id": "dk3xneVAW9_g",
    "ExecuteTime": {
     "end_time": "2025-09-26T04:35:57.280186Z",
     "start_time": "2025-09-26T04:35:57.277406Z"
    }
   },
   "outputs": [
    {
     "name": "stdout",
     "output_type": "stream",
     "text": [
      "RangeIndex(start=0, stop=5, step=1)\n",
      "Index(['이름', '학년', '학점', '학과', '동아리'], dtype='object')\n",
      "[['김철수', 1, 4.2, '컴퓨터학', '프로그래밍'], ['이영희', 2, 3.8, '경영학', '독서토론'], ['박민수', 3, 4.5, '농학', '로봇공학'], ['최지훈', 4, 3.9, '교육학', '봉사활동'], ['정소희', 2, 3.5, '영어영문학', '음악감상']]\n",
      "['김철수' 1 4.2 '컴퓨터학' '프로그래밍' '이영희' 2 3.8 '경영학' '독서토론' '박민수' 3 4.5 '농학'\n",
      " '로봇공학' '최지훈' 4 3.9 '교육학' '봉사활동' '정소희' 2 3.5 '영어영문학' '음악감상']\n"
     ]
    }
   ],
   "execution_count": 23
  },
  {
   "cell_type": "markdown",
   "source": [
    "## 5-4 DataFrame 생성 방법"
   ],
   "metadata": {
    "id": "ILJd1GLoseqm"
   }
  },
  {
   "cell_type": "code",
   "source": [
    "import pandas as pd\n",
    "import json\n",
    "\n",
    "data = {\n",
    "    \"이름\": [\"김철수\", \"이영희\", \"박민수\", \"최지훈\", \"정소희\"],\n",
    "    \"학년\": [1, 2, 3, 4, 2],\n",
    "    \"학점\": [4.2, 3.8, 4.5, 3.9, 3.5],\n",
    "    \"학과\": [\"컴퓨터공학\", \"경영학\", \"전자공학\", \"의학\", \"심리학\"],\n",
    "    \"동아리\": [\"프로그래밍\", \"독서토론\", \"로봇공학\", \"봉사활동\", \"음악감상\"]\n",
    "}\n",
    "\n",
    "## 딕셔너리, csv, json으로 부터 DataFrame 생성\n",
    "df1 = pd.DataFrame.from_dict(data)\n",
    "df2 = pd.read_csv('students.csv')\n",
    "df3 = pd.read_json('students.json')\n",
    "\n",
    "## 세가지 방법 결과 비교\n",
    "print(df1.shape)\n",
    "print(df2.shape)\n",
    "print(df3.shape)\n"
   ],
   "metadata": {
    "id": "ISnPLEgNXAmi",
    "ExecuteTime": {
     "end_time": "2025-09-26T04:47:30.300832Z",
     "start_time": "2025-09-26T04:47:30.293428Z"
    }
   },
   "outputs": [
    {
     "name": "stdout",
     "output_type": "stream",
     "text": [
      "(5, 5)\n",
      "(5, 5)\n",
      "(5, 5)\n"
     ]
    }
   ],
   "execution_count": 24
  },
  {
   "cell_type": "markdown",
   "source": [
    "## 5-5 DataFrame 저장 방법"
   ],
   "metadata": {
    "id": "z1N6lAnwsdyU"
   }
  },
  {
   "cell_type": "code",
   "source": [
    "import pandas as pd\n",
    "\n",
    "data = {\n",
    "    \"이름\": [\"김철수\", \"이영희\", \"박민수\", \"최지훈\", \"정소희\"],\n",
    "    \"학년\": [1, 2, 3, 4, 2],\n",
    "    \"학점\": [4.2, 3.8, 4.5, 3.9, 3.5],\n",
    "    \"학과\": [\"컴퓨터공학\", \"경영학\", \"전자공학\", \"의학\", \"심리학\"],\n",
    "    \"동아리\": [\"프로그래밍\", \"독서토론\", \"로봇공학\", \"봉사활동\", \"음악감상\"]\n",
    "}\n",
    "\n",
    "## Dataframe 생성\n",
    "df = pd.DataFrame(data)\n",
    "\n",
    "## CSV, JSON 형식으로 저장\n",
    "df.to_csv('students_scores.csv')\n",
    "df.to_json('students_scores.json')\n",
    "\n",
    "## HTML 형식으로 저장\n",
    "html_table = df.to_html()\n",
    "print(html_table)\n",
    "with open('students_scores.html', 'w') as f:\n",
    "    f.write(html_table)\n"
   ],
   "metadata": {
    "id": "_dqoWCRoXDrJ",
    "ExecuteTime": {
     "end_time": "2025-09-26T05:33:59.857740Z",
     "start_time": "2025-09-26T05:33:59.852230Z"
    }
   },
   "outputs": [
    {
     "name": "stdout",
     "output_type": "stream",
     "text": [
      "<table border=\"1\" class=\"dataframe\">\n",
      "  <thead>\n",
      "    <tr style=\"text-align: right;\">\n",
      "      <th></th>\n",
      "      <th>이름</th>\n",
      "      <th>학년</th>\n",
      "      <th>학점</th>\n",
      "      <th>학과</th>\n",
      "      <th>동아리</th>\n",
      "    </tr>\n",
      "  </thead>\n",
      "  <tbody>\n",
      "    <tr>\n",
      "      <th>0</th>\n",
      "      <td>김철수</td>\n",
      "      <td>1</td>\n",
      "      <td>4.2</td>\n",
      "      <td>컴퓨터공학</td>\n",
      "      <td>프로그래밍</td>\n",
      "    </tr>\n",
      "    <tr>\n",
      "      <th>1</th>\n",
      "      <td>이영희</td>\n",
      "      <td>2</td>\n",
      "      <td>3.8</td>\n",
      "      <td>경영학</td>\n",
      "      <td>독서토론</td>\n",
      "    </tr>\n",
      "    <tr>\n",
      "      <th>2</th>\n",
      "      <td>박민수</td>\n",
      "      <td>3</td>\n",
      "      <td>4.5</td>\n",
      "      <td>전자공학</td>\n",
      "      <td>로봇공학</td>\n",
      "    </tr>\n",
      "    <tr>\n",
      "      <th>3</th>\n",
      "      <td>최지훈</td>\n",
      "      <td>4</td>\n",
      "      <td>3.9</td>\n",
      "      <td>의학</td>\n",
      "      <td>봉사활동</td>\n",
      "    </tr>\n",
      "    <tr>\n",
      "      <th>4</th>\n",
      "      <td>정소희</td>\n",
      "      <td>2</td>\n",
      "      <td>3.5</td>\n",
      "      <td>심리학</td>\n",
      "      <td>음악감상</td>\n",
      "    </tr>\n",
      "  </tbody>\n",
      "</table>\n"
     ]
    }
   ],
   "execution_count": 26
  },
  {
   "cell_type": "markdown",
   "source": [
    "## 5-6 실습 시나리오"
   ],
   "metadata": {
    "id": "ifBFAyulsdJb"
   }
  },
  {
   "cell_type": "markdown",
   "source": [
    "## 데이터 수집"
   ],
   "metadata": {
    "id": "muFj6okKyXy6"
   }
  },
  {
   "cell_type": "code",
   "source": [
    "import requests\n",
    "\n",
    "url = \"http://apis.data.go.kr/B552584/ArpltnInforInqireSvc/getCtprvnRltmMesureDnsty\"\n",
    "api_key = 'Y5LtLLSt92cEIzTHu3tiaQE80Lx/X28cXDzw=='\n",
    "\n",
    "params = {\n",
    "    'serviceKey': api_key,\n",
    "    'returnType': 'json',\n",
    "    'numOfRows': '100',\n",
    "    'pageNo': '1',\n",
    "    'sidoName': '서울',\n",
    "    'ver': '1.0'\n",
    "}\n",
    "\n",
    "## 데이터 수집\n",
    "response = requests.get(url, params=params)\n",
    "\n",
    "## 호출 성공/실패 출력\n",
    "print(response.json())\n",
    "\n"
   ],
   "metadata": {
    "id": "7yCozmQeXJcO",
    "ExecuteTime": {
     "end_time": "2025-09-26T05:37:51.939454Z",
     "start_time": "2025-09-26T05:37:51.524035Z"
    }
   },
   "outputs": [
    {
     "name": "stdout",
     "output_type": "stream",
     "text": [
      "{'response': {'body': {'totalCount': 40, 'items': [{'so2Grade': '1', 'coFlag': None, 'khaiValue': '70', 'so2Value': '0.002', 'coValue': '0.4', 'pm25Flag': None, 'pm10Flag': None, 'o3Grade': '2', 'pm10Value': '30', 'khaiGrade': '2', 'pm25Value': '20', 'sidoName': '서울', 'no2Flag': None, 'no2Grade': '1', 'o3Flag': None, 'pm25Grade': '2', 'so2Flag': None, 'dataTime': '2025-09-26 14:00', 'coGrade': '1', 'no2Value': '0.015', 'stationName': '중구', 'pm10Grade': '1', 'o3Value': '0.053'}, {'so2Grade': '1', 'coFlag': None, 'khaiValue': '66', 'so2Value': '0.003', 'coValue': '0.5', 'pm25Flag': None, 'pm10Flag': None, 'o3Grade': '2', 'pm10Value': '30', 'khaiGrade': '2', 'pm25Value': '19', 'sidoName': '서울', 'no2Flag': None, 'no2Grade': '1', 'o3Flag': None, 'pm25Grade': '2', 'so2Flag': None, 'dataTime': '2025-09-26 14:00', 'coGrade': '1', 'no2Value': '0.014', 'stationName': '한강대로', 'pm10Grade': '2', 'o3Value': '0.049'}, {'so2Grade': '1', 'coFlag': None, 'khaiValue': '73', 'so2Value': '0.003', 'coValue': '0.4', 'pm25Flag': None, 'pm10Flag': None, 'o3Grade': '2', 'pm10Value': '25', 'khaiGrade': '2', 'pm25Value': '16', 'sidoName': '서울', 'no2Flag': None, 'no2Grade': '1', 'o3Flag': None, 'pm25Grade': '2', 'so2Flag': None, 'dataTime': '2025-09-26 14:00', 'coGrade': '1', 'no2Value': '0.011', 'stationName': '종로구', 'pm10Grade': '1', 'o3Value': '0.057'}, {'so2Grade': '1', 'coFlag': None, 'khaiValue': '64', 'so2Value': '0.005', 'coValue': '0.6', 'pm25Flag': None, 'pm10Flag': None, 'o3Grade': '2', 'pm10Value': '29', 'khaiGrade': '2', 'pm25Value': '14', 'sidoName': '서울', 'no2Flag': None, 'no2Grade': '1', 'o3Flag': None, 'pm25Grade': '1', 'so2Flag': None, 'dataTime': '2025-09-26 14:00', 'coGrade': '1', 'no2Value': '0.017', 'stationName': '청계천로', 'pm10Grade': '2', 'o3Value': '0.046'}, {'so2Grade': '1', 'coFlag': None, 'khaiValue': '60', 'so2Value': '0.003', 'coValue': '0.5', 'pm25Flag': None, 'pm10Flag': None, 'o3Grade': '2', 'pm10Value': '26', 'khaiGrade': '2', 'pm25Value': '12', 'sidoName': '서울', 'no2Flag': None, 'no2Grade': '1', 'o3Flag': None, 'pm25Grade': '1', 'so2Flag': None, 'dataTime': '2025-09-26 14:00', 'coGrade': '1', 'no2Value': '0.020', 'stationName': '종로', 'pm10Grade': '1', 'o3Value': '0.041'}, {'so2Grade': '1', 'coFlag': None, 'khaiValue': '66', 'so2Value': '0.003', 'coValue': '0.4', 'pm25Flag': None, 'pm10Flag': None, 'o3Grade': '2', 'pm10Value': '30', 'khaiGrade': '2', 'pm25Value': '14', 'sidoName': '서울', 'no2Flag': None, 'no2Grade': '1', 'o3Flag': None, 'pm25Grade': '2', 'so2Flag': None, 'dataTime': '2025-09-26 14:00', 'coGrade': '1', 'no2Value': '0.012', 'stationName': '용산구', 'pm10Grade': '2', 'o3Value': '0.049'}, {'so2Grade': '1', 'coFlag': None, 'khaiValue': '76', 'so2Value': '0.003', 'coValue': '0.5', 'pm25Flag': None, 'pm10Flag': None, 'o3Grade': '2', 'pm10Value': '21', 'khaiGrade': '2', 'pm25Value': '13', 'sidoName': '서울', 'no2Flag': None, 'no2Grade': '1', 'o3Flag': None, 'pm25Grade': '1', 'so2Flag': None, 'dataTime': '2025-09-26 14:00', 'coGrade': '1', 'no2Value': '0.008', 'stationName': '광진구', 'pm10Grade': '1', 'o3Value': '0.061'}, {'so2Grade': '1', 'coFlag': None, 'khaiValue': '70', 'so2Value': '0.003', 'coValue': '0.4', 'pm25Flag': None, 'pm10Flag': None, 'o3Grade': '2', 'pm10Value': '24', 'khaiGrade': '2', 'pm25Value': '20', 'sidoName': '서울', 'no2Flag': None, 'no2Grade': '1', 'o3Flag': None, 'pm25Grade': '2', 'so2Flag': None, 'dataTime': '2025-09-26 14:00', 'coGrade': '1', 'no2Value': '0.012', 'stationName': '성동구', 'pm10Grade': '1', 'o3Value': '0.053'}, {'so2Grade': '1', 'coFlag': None, 'khaiValue': '55', 'so2Value': '0.003', 'coValue': '0.6', 'pm25Flag': None, 'pm10Flag': None, 'o3Grade': '2', 'pm10Value': '32', 'khaiGrade': '2', 'pm25Value': '21', 'sidoName': '서울', 'no2Flag': None, 'no2Grade': '2', 'o3Flag': None, 'pm25Grade': '1', 'so2Flag': None, 'dataTime': '2025-09-26 14:00', 'coGrade': '1', 'no2Value': '0.032', 'stationName': '강변북로', 'pm10Grade': '2', 'o3Value': '0.032'}, {'so2Grade': '1', 'coFlag': None, 'khaiValue': '-', 'so2Value': '0.002', 'coValue': '0.3', 'pm25Flag': None, 'pm10Flag': '통신장애', 'o3Grade': '2', 'pm10Value': '-', 'khaiGrade': None, 'pm25Value': '31', 'sidoName': '서울', 'no2Flag': None, 'no2Grade': '1', 'o3Flag': None, 'pm25Grade': '2', 'so2Flag': None, 'dataTime': '2025-09-26 14:00', 'coGrade': '1', 'no2Value': '0.005', 'stationName': '중랑구', 'pm10Grade': None, 'o3Value': '0.049'}, {'so2Grade': '1', 'coFlag': None, 'khaiValue': '71', 'so2Value': '0.002', 'coValue': '0.4', 'pm25Flag': None, 'pm10Flag': None, 'o3Grade': '2', 'pm10Value': '24', 'khaiGrade': '2', 'pm25Value': '15', 'sidoName': '서울', 'no2Flag': None, 'no2Grade': '1', 'o3Flag': None, 'pm25Grade': '1', 'so2Flag': None, 'dataTime': '2025-09-26 14:00', 'coGrade': '1', 'no2Value': '0.009', 'stationName': '동대문구', 'pm10Grade': '1', 'o3Value': '0.054'}, {'so2Grade': '1', 'coFlag': None, 'khaiValue': '64', 'so2Value': '0.003', 'coValue': '0.4', 'pm25Flag': None, 'pm10Flag': None, 'o3Grade': '2', 'pm10Value': '33', 'khaiGrade': '2', 'pm25Value': '15', 'sidoName': '서울', 'no2Flag': None, 'no2Grade': '1', 'o3Flag': None, 'pm25Grade': '1', 'so2Flag': None, 'dataTime': '2025-09-26 14:00', 'coGrade': '1', 'no2Value': '0.017', 'stationName': '홍릉로', 'pm10Grade': '1', 'o3Value': '0.046'}, {'so2Grade': '1', 'coFlag': None, 'khaiValue': '67', 'so2Value': '0.003', 'coValue': '0.5', 'pm25Flag': None, 'pm10Flag': None, 'o3Grade': '2', 'pm10Value': '28', 'khaiGrade': '2', 'pm25Value': '15', 'sidoName': '서울', 'no2Flag': None, 'no2Grade': '1', 'o3Flag': None, 'pm25Grade': '2', 'so2Flag': None, 'dataTime': '2025-09-26 14:00', 'coGrade': '1', 'no2Value': '0.008', 'stationName': '성북구', 'pm10Grade': '1', 'o3Value': '0.049'}, {'so2Grade': '1', 'coFlag': None, 'khaiValue': '63', 'so2Value': '0.002', 'coValue': '0.5', 'pm25Flag': None, 'pm10Flag': None, 'o3Grade': '2', 'pm10Value': '26', 'khaiGrade': '2', 'pm25Value': '13', 'sidoName': '서울', 'no2Flag': None, 'no2Grade': '1', 'o3Flag': None, 'pm25Grade': '1', 'so2Flag': None, 'dataTime': '2025-09-26 14:00', 'coGrade': '1', 'no2Value': '0.023', 'stationName': '정릉로', 'pm10Grade': '1', 'o3Value': '0.045'}, {'so2Grade': '1', 'coFlag': None, 'khaiValue': '70', 'so2Value': '0.003', 'coValue': '0.4', 'pm25Flag': None, 'pm10Flag': None, 'o3Grade': '2', 'pm10Value': '22', 'khaiGrade': '2', 'pm25Value': '16', 'sidoName': '서울', 'no2Flag': None, 'no2Grade': '1', 'o3Flag': None, 'pm25Grade': '2', 'so2Flag': None, 'dataTime': '2025-09-26 14:00', 'coGrade': '1', 'no2Value': '0.006', 'stationName': '도봉구', 'pm10Grade': '1', 'o3Value': '0.053'}, {'so2Grade': None, 'coFlag': '통신장애', 'khaiValue': '-', 'so2Value': '-', 'coValue': '-', 'pm25Flag': '통신장애', 'pm10Flag': '통신장애', 'o3Grade': None, 'pm10Value': '-', 'khaiGrade': None, 'pm25Value': '-', 'sidoName': '서울', 'no2Flag': '통신장애', 'no2Grade': None, 'o3Flag': '통신장애', 'pm25Grade': None, 'so2Flag': '통신장애', 'dataTime': '2025-09-26 14:00', 'coGrade': None, 'no2Value': '-', 'stationName': '은평구', 'pm10Grade': None, 'o3Value': '-'}, {'so2Grade': '1', 'coFlag': None, 'khaiValue': '74', 'so2Value': '0.003', 'coValue': '0.5', 'pm25Flag': None, 'pm10Flag': '통신장애', 'o3Grade': '2', 'pm10Value': '-', 'khaiGrade': '2', 'pm25Value': '21', 'sidoName': '서울', 'no2Flag': None, 'no2Grade': '1', 'o3Flag': None, 'pm25Grade': '2', 'so2Flag': None, 'dataTime': '2025-09-26 14:00', 'coGrade': '1', 'no2Value': '0.008', 'stationName': '서대문구', 'pm10Grade': '1', 'o3Value': '0.059'}, {'so2Grade': '1', 'coFlag': None, 'khaiValue': '77', 'so2Value': '0.002', 'coValue': '0.4', 'pm25Flag': None, 'pm10Flag': None, 'o3Grade': '2', 'pm10Value': '29', 'khaiGrade': '2', 'pm25Value': '18', 'sidoName': '서울', 'no2Flag': None, 'no2Grade': '1', 'o3Flag': None, 'pm25Grade': '2', 'so2Flag': None, 'dataTime': '2025-09-26 14:00', 'coGrade': '1', 'no2Value': '0.013', 'stationName': '마포구', 'pm10Grade': '1', 'o3Value': '0.062'}, {'so2Grade': '1', 'coFlag': None, 'khaiValue': '69', 'so2Value': '0.003', 'coValue': '0.5', 'pm25Flag': None, 'pm10Flag': None, 'o3Grade': '2', 'pm10Value': '34', 'khaiGrade': '2', 'pm25Value': '21', 'sidoName': '서울', 'no2Flag': None, 'no2Grade': '1', 'o3Flag': None, 'pm25Grade': '2', 'so2Flag': None, 'dataTime': '2025-09-26 14:00', 'coGrade': '1', 'no2Value': '0.017', 'stationName': '신촌로', 'pm10Grade': '2', 'o3Value': '0.052'}, {'so2Grade': '1', 'coFlag': None, 'khaiValue': '77', 'so2Value': '0.002', 'coValue': '0.4', 'pm25Flag': None, 'pm10Flag': None, 'o3Grade': '2', 'pm10Value': '31', 'khaiGrade': '2', 'pm25Value': '18', 'sidoName': '서울', 'no2Flag': None, 'no2Grade': '1', 'o3Flag': None, 'pm25Grade': '2', 'so2Flag': None, 'dataTime': '2025-09-26 14:00', 'coGrade': '1', 'no2Value': '0.012', 'stationName': '강서구', 'pm10Grade': '2', 'o3Value': '0.062'}, {'so2Grade': '1', 'coFlag': None, 'khaiValue': '73', 'so2Value': '0.002', 'coValue': '0.5', 'pm25Flag': None, 'pm10Flag': None, 'o3Grade': '2', 'pm10Value': '30', 'khaiGrade': '2', 'pm25Value': '18', 'sidoName': '서울', 'no2Flag': None, 'no2Grade': '1', 'o3Flag': None, 'pm25Grade': '2', 'so2Flag': None, 'dataTime': '2025-09-26 14:00', 'coGrade': '1', 'no2Value': '0.025', 'stationName': '공항대로', 'pm10Grade': '2', 'o3Value': '0.057'}, {'so2Grade': '1', 'coFlag': None, 'khaiValue': '75', 'so2Value': '0.002', 'coValue': '0.4', 'pm25Flag': None, 'pm10Flag': None, 'o3Grade': '2', 'pm10Value': '38', 'khaiGrade': '2', 'pm25Value': '22', 'sidoName': '서울', 'no2Flag': None, 'no2Grade': '1', 'o3Flag': None, 'pm25Grade': '2', 'so2Flag': None, 'dataTime': '2025-09-26 14:00', 'coGrade': '1', 'no2Value': '0.010', 'stationName': '구로구', 'pm10Grade': '2', 'o3Value': '0.060'}, {'so2Grade': '1', 'coFlag': None, 'khaiValue': '75', 'so2Value': '0.002', 'coValue': '0.4', 'pm25Flag': None, 'pm10Flag': None, 'o3Grade': '2', 'pm10Value': '26', 'khaiGrade': '2', 'pm25Value': '24', 'sidoName': '서울', 'no2Flag': None, 'no2Grade': '1', 'o3Flag': None, 'pm25Grade': '2', 'so2Flag': None, 'dataTime': '2025-09-26 14:00', 'coGrade': '1', 'no2Value': '0.013', 'stationName': '영등포구', 'pm10Grade': '1', 'o3Value': '0.060'}, {'so2Grade': '1', 'coFlag': None, 'khaiValue': '75', 'so2Value': '0.002', 'coValue': '0.5', 'pm25Flag': None, 'pm10Flag': None, 'o3Grade': '2', 'pm10Value': '30', 'khaiGrade': '2', 'pm25Value': '17', 'sidoName': '서울', 'no2Flag': None, 'no2Grade': '1', 'o3Flag': None, 'pm25Grade': '2', 'so2Flag': None, 'dataTime': '2025-09-26 14:00', 'coGrade': '1', 'no2Value': '0.018', 'stationName': '영등포로', 'pm10Grade': '2', 'o3Value': '0.059'}, {'so2Grade': '1', 'coFlag': None, 'khaiValue': '75', 'so2Value': '0.002', 'coValue': '0.5', 'pm25Flag': None, 'pm10Flag': None, 'o3Grade': '2', 'pm10Value': '32', 'khaiGrade': '2', 'pm25Value': '17', 'sidoName': '서울', 'no2Flag': None, 'no2Grade': '1', 'o3Flag': None, 'pm25Grade': '2', 'so2Flag': None, 'dataTime': '2025-09-26 14:00', 'coGrade': '1', 'no2Value': '0.013', 'stationName': '동작구', 'pm10Grade': '2', 'o3Value': '0.059'}, {'so2Grade': '1', 'coFlag': None, 'khaiValue': '64', 'so2Value': '0.002', 'coValue': '0.5', 'pm25Flag': None, 'pm10Flag': None, 'o3Grade': '2', 'pm10Value': '33', 'khaiGrade': '2', 'pm25Value': '16', 'sidoName': '서울', 'no2Flag': None, 'no2Grade': '2', 'o3Flag': None, 'pm25Grade': '1', 'so2Flag': None, 'dataTime': '2025-09-26 14:00', 'coGrade': '1', 'no2Value': '0.031', 'stationName': '동작대로 중앙차로', 'pm10Grade': '2', 'o3Value': '0.046'}, {'so2Grade': None, 'coFlag': '통신장애', 'khaiValue': '-', 'so2Value': '-', 'coValue': '-', 'pm25Flag': '통신장애', 'pm10Flag': '통신장애', 'o3Grade': None, 'pm10Value': '-', 'khaiGrade': None, 'pm25Value': '-', 'sidoName': '서울', 'no2Flag': '통신장애', 'no2Grade': None, 'o3Flag': '통신장애', 'pm25Grade': '2', 'so2Flag': '통신장애', 'dataTime': '2025-09-26 14:00', 'coGrade': None, 'no2Value': '-', 'stationName': '관악구', 'pm10Grade': '2', 'o3Value': '-'}, {'so2Grade': '1', 'coFlag': None, 'khaiValue': '68', 'so2Value': '0.003', 'coValue': '0.5', 'pm25Flag': None, 'pm10Flag': None, 'o3Grade': '2', 'pm10Value': '27', 'khaiGrade': '2', 'pm25Value': '15', 'sidoName': '서울', 'no2Flag': None, 'no2Grade': '1', 'o3Flag': None, 'pm25Grade': '1', 'so2Flag': None, 'dataTime': '2025-09-26 14:00', 'coGrade': '1', 'no2Value': '0.013', 'stationName': '강남구', 'pm10Grade': '1', 'o3Value': '0.051'}, {'so2Grade': '1', 'coFlag': None, 'khaiValue': '74', 'so2Value': '0.002', 'coValue': '0.3', 'pm25Flag': None, 'pm10Flag': None, 'o3Grade': '2', 'pm10Value': '33', 'khaiGrade': '2', 'pm25Value': '15', 'sidoName': '서울', 'no2Flag': None, 'no2Grade': '1', 'o3Flag': None, 'pm25Grade': '2', 'so2Flag': None, 'dataTime': '2025-09-26 14:00', 'coGrade': '1', 'no2Value': '0.011', 'stationName': '서초구', 'pm10Grade': '2', 'o3Value': '0.058'}, {'so2Grade': '1', 'coFlag': None, 'khaiValue': '66', 'so2Value': '0.003', 'coValue': '0.6', 'pm25Flag': None, 'pm10Flag': None, 'o3Grade': '2', 'pm10Value': '30', 'khaiGrade': '2', 'pm25Value': '19', 'sidoName': '서울', 'no2Flag': None, 'no2Grade': '1', 'o3Flag': None, 'pm25Grade': '2', 'so2Flag': None, 'dataTime': '2025-09-26 14:00', 'coGrade': '1', 'no2Value': '0.020', 'stationName': '도산대로', 'pm10Grade': '2', 'o3Value': '0.049'}, {'so2Grade': '1', 'coFlag': None, 'khaiValue': '60', 'so2Value': '0.002', 'coValue': '0.5', 'pm25Flag': None, 'pm10Flag': None, 'o3Grade': '2', 'pm10Value': '32', 'khaiGrade': '2', 'pm25Value': '14', 'sidoName': '서울', 'no2Flag': None, 'no2Grade': '1', 'o3Flag': None, 'pm25Grade': '2', 'so2Flag': None, 'dataTime': '2025-09-26 14:00', 'coGrade': '1', 'no2Value': '0.024', 'stationName': '강남대로', 'pm10Grade': '2', 'o3Value': '0.041'}, {'so2Grade': '1', 'coFlag': None, 'khaiValue': '68', 'so2Value': '0.002', 'coValue': '0.4', 'pm25Flag': None, 'pm10Flag': None, 'o3Grade': '2', 'pm10Value': '27', 'khaiGrade': '2', 'pm25Value': '19', 'sidoName': '서울', 'no2Flag': None, 'no2Grade': '1', 'o3Flag': None, 'pm25Grade': '2', 'so2Flag': None, 'dataTime': '2025-09-26 14:00', 'coGrade': '1', 'no2Value': '0.010', 'stationName': '송파구', 'pm10Grade': '1', 'o3Value': '0.050'}, {'so2Grade': None, 'coFlag': '통신장애', 'khaiValue': '-', 'so2Value': '-', 'coValue': '-', 'pm25Flag': None, 'pm10Flag': None, 'o3Grade': None, 'pm10Value': '24', 'khaiGrade': None, 'pm25Value': '12', 'sidoName': '서울', 'no2Flag': '통신장애', 'no2Grade': None, 'o3Flag': '통신장애', 'pm25Grade': None, 'so2Flag': '통신장애', 'dataTime': '2025-09-26 14:00', 'coGrade': None, 'no2Value': '-', 'stationName': '강동구', 'pm10Grade': None, 'o3Value': '-'}, {'so2Grade': '1', 'coFlag': None, 'khaiValue': '58', 'so2Value': '0.002', 'coValue': '0.5', 'pm25Flag': None, 'pm10Flag': None, 'o3Grade': '2', 'pm10Value': '21', 'khaiGrade': '2', 'pm25Value': '13', 'sidoName': '서울', 'no2Flag': None, 'no2Grade': '1', 'o3Flag': None, 'pm25Grade': '1', 'so2Flag': None, 'dataTime': '2025-09-26 14:00', 'coGrade': '1', 'no2Value': '0.023', 'stationName': '천호대로', 'pm10Grade': '1', 'o3Value': '0.039'}, {'so2Grade': '1', 'coFlag': None, 'khaiValue': '78', 'so2Value': '0.003', 'coValue': '0.4', 'pm25Flag': None, 'pm10Flag': None, 'o3Grade': '2', 'pm10Value': '26', 'khaiGrade': '2', 'pm25Value': '19', 'sidoName': '서울', 'no2Flag': None, 'no2Grade': '1', 'o3Flag': None, 'pm25Grade': '2', 'so2Flag': None, 'dataTime': '2025-09-26 14:00', 'coGrade': '1', 'no2Value': '0.014', 'stationName': '금천구', 'pm10Grade': '2', 'o3Value': '0.063'}, {'so2Grade': '1', 'coFlag': None, 'khaiValue': '61', 'so2Value': '0.003', 'coValue': '0.6', 'pm25Flag': None, 'pm10Flag': None, 'o3Grade': '2', 'pm10Value': '34', 'khaiGrade': '2', 'pm25Value': '19', 'sidoName': '서울', 'no2Flag': None, 'no2Grade': '2', 'o3Flag': None, 'pm25Grade': '2', 'so2Flag': None, 'dataTime': '2025-09-26 14:00', 'coGrade': '1', 'no2Value': '0.036', 'stationName': '시흥대로', 'pm10Grade': '2', 'o3Value': '0.034'}, {'so2Grade': '1', 'coFlag': None, 'khaiValue': '70', 'so2Value': '0.002', 'coValue': '0.4', 'pm25Flag': None, 'pm10Flag': None, 'o3Grade': '2', 'pm10Value': '20', 'khaiGrade': '2', 'pm25Value': '12', 'sidoName': '서울', 'no2Flag': None, 'no2Grade': '1', 'o3Flag': None, 'pm25Grade': '1', 'so2Flag': None, 'dataTime': '2025-09-26 14:00', 'coGrade': '1', 'no2Value': '0.007', 'stationName': '강북구', 'pm10Grade': '1', 'o3Value': '0.053'}, {'so2Grade': '1', 'coFlag': None, 'khaiValue': '-', 'so2Value': '0.002', 'coValue': '0.4', 'pm25Flag': None, 'pm10Flag': None, 'o3Grade': '2', 'pm10Value': '30', 'khaiGrade': None, 'pm25Value': '18', 'sidoName': '서울', 'no2Flag': None, 'no2Grade': '1', 'o3Flag': None, 'pm25Grade': '2', 'so2Flag': None, 'dataTime': '2025-09-26 14:00', 'coGrade': '1', 'no2Value': '0.011', 'stationName': '양천구', 'pm10Grade': None, 'o3Value': '0.067'}, {'so2Grade': '1', 'coFlag': None, 'khaiValue': '68', 'so2Value': '0.002', 'coValue': '0.3', 'pm25Flag': None, 'pm10Flag': None, 'o3Grade': '2', 'pm10Value': '23', 'khaiGrade': '2', 'pm25Value': '14', 'sidoName': '서울', 'no2Flag': None, 'no2Grade': '1', 'o3Flag': None, 'pm25Grade': '1', 'so2Flag': None, 'dataTime': '2025-09-26 14:00', 'coGrade': '1', 'no2Value': '0.008', 'stationName': '노원구', 'pm10Grade': '1', 'o3Value': '0.051'}, {'so2Grade': '1', 'coFlag': None, 'khaiValue': '70', 'so2Value': '0.002', 'coValue': '0.4', 'pm25Flag': None, 'pm10Flag': None, 'o3Grade': '2', 'pm10Value': '21', 'khaiGrade': '2', 'pm25Value': '14', 'sidoName': '서울', 'no2Flag': None, 'no2Grade': '1', 'o3Flag': None, 'pm25Grade': '2', 'so2Flag': None, 'dataTime': '2025-09-26 14:00', 'coGrade': '1', 'no2Value': '0.016', 'stationName': '화랑로', 'pm10Grade': '1', 'o3Value': '0.054'}], 'pageNo': 1, 'numOfRows': 100}, 'header': {'resultMsg': 'NORMAL_CODE', 'resultCode': '00'}}}\n"
     ]
    }
   ],
   "execution_count": 27
  },
  {
   "cell_type": "markdown",
   "source": [
    "## 데이터 프레임 생성"
   ],
   "metadata": {
    "id": "d6mT4IxkySzI"
   }
  },
  {
   "cell_type": "code",
   "source": [
    "import pandas as pd\n",
    "\n",
    "## requests로부터 response, body, item 항목 읽기\n",
    "# data = response.json()['response']['body']['items']\n",
    "# print(type(data))\n",
    "# print(len(data))\n",
    "# print(data[0])\n",
    "df = pd.DataFrame(data)\n",
    "df['pm25Grade']\n"
   ],
   "metadata": {
    "id": "HOOo9qTsXLkB",
    "ExecuteTime": {
     "end_time": "2025-09-26T05:41:50.589314Z",
     "start_time": "2025-09-26T05:41:50.585913Z"
    }
   },
   "outputs": [
    {
     "data": {
      "text/plain": [
       "0        2\n",
       "1        2\n",
       "2        2\n",
       "3        1\n",
       "4        1\n",
       "5        2\n",
       "6        1\n",
       "7        2\n",
       "8        1\n",
       "9        2\n",
       "10       1\n",
       "11       1\n",
       "12       2\n",
       "13       1\n",
       "14       2\n",
       "15    None\n",
       "16       2\n",
       "17       2\n",
       "18       2\n",
       "19       2\n",
       "20       2\n",
       "21       2\n",
       "22       2\n",
       "23       2\n",
       "24       2\n",
       "25       1\n",
       "26       2\n",
       "27       1\n",
       "28       2\n",
       "29       2\n",
       "30       2\n",
       "31       2\n",
       "32    None\n",
       "33       1\n",
       "34       2\n",
       "35       2\n",
       "36       1\n",
       "37       2\n",
       "38       1\n",
       "39       2\n",
       "Name: pm25Grade, dtype: object"
      ]
     },
     "execution_count": 34,
     "metadata": {},
     "output_type": "execute_result"
    }
   ],
   "execution_count": 34
  },
  {
   "cell_type": "markdown",
   "source": [
    "## 다양항 형식으로 데이터 저장\n"
   ],
   "metadata": {
    "id": "vVG0HYb0ymeM"
   }
  },
  {
   "cell_type": "code",
   "source": [
    "df.to_csv('air_pollution.csv', index=False, encoding='utf-8')\n",
    "\n",
    "## JSON 형식 데이터 저장\n",
    "df.to_json('air_pollution.json', indent=4, force_ascii=False)\n",
    "\n",
    "## EXCEL 형식 데이터 저장\n",
    "df.to_excel('air_pollution.xlsx', index=False)\n",
    "\n",
    "## HTML 형식 데이터 저장\n",
    "df.to_html('air_pollution.html')\n"
   ],
   "metadata": {
    "id": "HW1ZodpgXNhG",
    "ExecuteTime": {
     "end_time": "2025-09-26T05:45:38.667470Z",
     "start_time": "2025-09-26T05:45:38.631449Z"
    }
   },
   "outputs": [
    {
     "ename": "ModuleNotFoundError",
     "evalue": "No module named 'openpyxl'",
     "output_type": "error",
     "traceback": [
      "\u001B[31m---------------------------------------------------------------------------\u001B[39m",
      "\u001B[31mModuleNotFoundError\u001B[39m                       Traceback (most recent call last)",
      "\u001B[36mCell\u001B[39m\u001B[36m \u001B[39m\u001B[32mIn[38]\u001B[39m\u001B[32m, line 7\u001B[39m\n\u001B[32m      4\u001B[39m df.to_json(\u001B[33m'\u001B[39m\u001B[33mair_pollution.json\u001B[39m\u001B[33m'\u001B[39m, indent=\u001B[32m4\u001B[39m, force_ascii=\u001B[38;5;28;01mFalse\u001B[39;00m)\n\u001B[32m      6\u001B[39m \u001B[38;5;66;03m## EXCEL 형식 데이터 저장\u001B[39;00m\n\u001B[32m----> \u001B[39m\u001B[32m7\u001B[39m \u001B[43mdf\u001B[49m\u001B[43m.\u001B[49m\u001B[43mto_excel\u001B[49m\u001B[43m(\u001B[49m\u001B[33;43m'\u001B[39;49m\u001B[33;43mair_pollution.xlsx\u001B[39;49m\u001B[33;43m'\u001B[39;49m\u001B[43m,\u001B[49m\u001B[43m \u001B[49m\u001B[43mindex\u001B[49m\u001B[43m=\u001B[49m\u001B[38;5;28;43;01mFalse\u001B[39;49;00m\u001B[43m)\u001B[49m\n\u001B[32m      9\u001B[39m \u001B[38;5;66;03m## HTML 형식 데이터 저장\u001B[39;00m\n\u001B[32m     10\u001B[39m df.to_html(\u001B[33m'\u001B[39m\u001B[33mair_pollution.html\u001B[39m\u001B[33m'\u001B[39m)\n",
      "\u001B[36mFile \u001B[39m\u001B[32m~/Library/Mobile Documents/com~apple~CloudDocs/방통대/3학년2학기/오픈소스/Data-Analysis-with-Open-Source/.venv/lib/python3.12/site-packages/pandas/util/_decorators.py:333\u001B[39m, in \u001B[36mdeprecate_nonkeyword_arguments.<locals>.decorate.<locals>.wrapper\u001B[39m\u001B[34m(*args, **kwargs)\u001B[39m\n\u001B[32m    327\u001B[39m \u001B[38;5;28;01mif\u001B[39;00m \u001B[38;5;28mlen\u001B[39m(args) > num_allow_args:\n\u001B[32m    328\u001B[39m     warnings.warn(\n\u001B[32m    329\u001B[39m         msg.format(arguments=_format_argument_list(allow_args)),\n\u001B[32m    330\u001B[39m         \u001B[38;5;167;01mFutureWarning\u001B[39;00m,\n\u001B[32m    331\u001B[39m         stacklevel=find_stack_level(),\n\u001B[32m    332\u001B[39m     )\n\u001B[32m--> \u001B[39m\u001B[32m333\u001B[39m \u001B[38;5;28;01mreturn\u001B[39;00m \u001B[43mfunc\u001B[49m\u001B[43m(\u001B[49m\u001B[43m*\u001B[49m\u001B[43margs\u001B[49m\u001B[43m,\u001B[49m\u001B[43m \u001B[49m\u001B[43m*\u001B[49m\u001B[43m*\u001B[49m\u001B[43mkwargs\u001B[49m\u001B[43m)\u001B[49m\n",
      "\u001B[36mFile \u001B[39m\u001B[32m~/Library/Mobile Documents/com~apple~CloudDocs/방통대/3학년2학기/오픈소스/Data-Analysis-with-Open-Source/.venv/lib/python3.12/site-packages/pandas/core/generic.py:2436\u001B[39m, in \u001B[36mNDFrame.to_excel\u001B[39m\u001B[34m(self, excel_writer, sheet_name, na_rep, float_format, columns, header, index, index_label, startrow, startcol, engine, merge_cells, inf_rep, freeze_panes, storage_options, engine_kwargs)\u001B[39m\n\u001B[32m   2423\u001B[39m \u001B[38;5;28;01mfrom\u001B[39;00m\u001B[38;5;250m \u001B[39m\u001B[34;01mpandas\u001B[39;00m\u001B[34;01m.\u001B[39;00m\u001B[34;01mio\u001B[39;00m\u001B[34;01m.\u001B[39;00m\u001B[34;01mformats\u001B[39;00m\u001B[34;01m.\u001B[39;00m\u001B[34;01mexcel\u001B[39;00m\u001B[38;5;250m \u001B[39m\u001B[38;5;28;01mimport\u001B[39;00m ExcelFormatter\n\u001B[32m   2425\u001B[39m formatter = ExcelFormatter(\n\u001B[32m   2426\u001B[39m     df,\n\u001B[32m   2427\u001B[39m     na_rep=na_rep,\n\u001B[32m   (...)\u001B[39m\u001B[32m   2434\u001B[39m     inf_rep=inf_rep,\n\u001B[32m   2435\u001B[39m )\n\u001B[32m-> \u001B[39m\u001B[32m2436\u001B[39m \u001B[43mformatter\u001B[49m\u001B[43m.\u001B[49m\u001B[43mwrite\u001B[49m\u001B[43m(\u001B[49m\n\u001B[32m   2437\u001B[39m \u001B[43m    \u001B[49m\u001B[43mexcel_writer\u001B[49m\u001B[43m,\u001B[49m\n\u001B[32m   2438\u001B[39m \u001B[43m    \u001B[49m\u001B[43msheet_name\u001B[49m\u001B[43m=\u001B[49m\u001B[43msheet_name\u001B[49m\u001B[43m,\u001B[49m\n\u001B[32m   2439\u001B[39m \u001B[43m    \u001B[49m\u001B[43mstartrow\u001B[49m\u001B[43m=\u001B[49m\u001B[43mstartrow\u001B[49m\u001B[43m,\u001B[49m\n\u001B[32m   2440\u001B[39m \u001B[43m    \u001B[49m\u001B[43mstartcol\u001B[49m\u001B[43m=\u001B[49m\u001B[43mstartcol\u001B[49m\u001B[43m,\u001B[49m\n\u001B[32m   2441\u001B[39m \u001B[43m    \u001B[49m\u001B[43mfreeze_panes\u001B[49m\u001B[43m=\u001B[49m\u001B[43mfreeze_panes\u001B[49m\u001B[43m,\u001B[49m\n\u001B[32m   2442\u001B[39m \u001B[43m    \u001B[49m\u001B[43mengine\u001B[49m\u001B[43m=\u001B[49m\u001B[43mengine\u001B[49m\u001B[43m,\u001B[49m\n\u001B[32m   2443\u001B[39m \u001B[43m    \u001B[49m\u001B[43mstorage_options\u001B[49m\u001B[43m=\u001B[49m\u001B[43mstorage_options\u001B[49m\u001B[43m,\u001B[49m\n\u001B[32m   2444\u001B[39m \u001B[43m    \u001B[49m\u001B[43mengine_kwargs\u001B[49m\u001B[43m=\u001B[49m\u001B[43mengine_kwargs\u001B[49m\u001B[43m,\u001B[49m\n\u001B[32m   2445\u001B[39m \u001B[43m\u001B[49m\u001B[43m)\u001B[49m\n",
      "\u001B[36mFile \u001B[39m\u001B[32m~/Library/Mobile Documents/com~apple~CloudDocs/방통대/3학년2학기/오픈소스/Data-Analysis-with-Open-Source/.venv/lib/python3.12/site-packages/pandas/io/formats/excel.py:943\u001B[39m, in \u001B[36mExcelFormatter.write\u001B[39m\u001B[34m(self, writer, sheet_name, startrow, startcol, freeze_panes, engine, storage_options, engine_kwargs)\u001B[39m\n\u001B[32m    941\u001B[39m     need_save = \u001B[38;5;28;01mFalse\u001B[39;00m\n\u001B[32m    942\u001B[39m \u001B[38;5;28;01melse\u001B[39;00m:\n\u001B[32m--> \u001B[39m\u001B[32m943\u001B[39m     writer = \u001B[43mExcelWriter\u001B[49m\u001B[43m(\u001B[49m\n\u001B[32m    944\u001B[39m \u001B[43m        \u001B[49m\u001B[43mwriter\u001B[49m\u001B[43m,\u001B[49m\n\u001B[32m    945\u001B[39m \u001B[43m        \u001B[49m\u001B[43mengine\u001B[49m\u001B[43m=\u001B[49m\u001B[43mengine\u001B[49m\u001B[43m,\u001B[49m\n\u001B[32m    946\u001B[39m \u001B[43m        \u001B[49m\u001B[43mstorage_options\u001B[49m\u001B[43m=\u001B[49m\u001B[43mstorage_options\u001B[49m\u001B[43m,\u001B[49m\n\u001B[32m    947\u001B[39m \u001B[43m        \u001B[49m\u001B[43mengine_kwargs\u001B[49m\u001B[43m=\u001B[49m\u001B[43mengine_kwargs\u001B[49m\u001B[43m,\u001B[49m\n\u001B[32m    948\u001B[39m \u001B[43m    \u001B[49m\u001B[43m)\u001B[49m\n\u001B[32m    949\u001B[39m     need_save = \u001B[38;5;28;01mTrue\u001B[39;00m\n\u001B[32m    951\u001B[39m \u001B[38;5;28;01mtry\u001B[39;00m:\n",
      "\u001B[36mFile \u001B[39m\u001B[32m~/Library/Mobile Documents/com~apple~CloudDocs/방통대/3학년2학기/오픈소스/Data-Analysis-with-Open-Source/.venv/lib/python3.12/site-packages/pandas/io/excel/_openpyxl.py:57\u001B[39m, in \u001B[36mOpenpyxlWriter.__init__\u001B[39m\u001B[34m(self, path, engine, date_format, datetime_format, mode, storage_options, if_sheet_exists, engine_kwargs, **kwargs)\u001B[39m\n\u001B[32m     44\u001B[39m \u001B[38;5;28;01mdef\u001B[39;00m\u001B[38;5;250m \u001B[39m\u001B[34m__init__\u001B[39m(\n\u001B[32m     45\u001B[39m     \u001B[38;5;28mself\u001B[39m,\n\u001B[32m     46\u001B[39m     path: FilePath | WriteExcelBuffer | ExcelWriter,\n\u001B[32m   (...)\u001B[39m\u001B[32m     55\u001B[39m ) -> \u001B[38;5;28;01mNone\u001B[39;00m:\n\u001B[32m     56\u001B[39m     \u001B[38;5;66;03m# Use the openpyxl module as the Excel writer.\u001B[39;00m\n\u001B[32m---> \u001B[39m\u001B[32m57\u001B[39m     \u001B[38;5;28;01mfrom\u001B[39;00m\u001B[38;5;250m \u001B[39m\u001B[34;01mopenpyxl\u001B[39;00m\u001B[34;01m.\u001B[39;00m\u001B[34;01mworkbook\u001B[39;00m\u001B[38;5;250m \u001B[39m\u001B[38;5;28;01mimport\u001B[39;00m Workbook\n\u001B[32m     59\u001B[39m     engine_kwargs = combine_kwargs(engine_kwargs, kwargs)\n\u001B[32m     61\u001B[39m     \u001B[38;5;28msuper\u001B[39m().\u001B[34m__init__\u001B[39m(\n\u001B[32m     62\u001B[39m         path,\n\u001B[32m     63\u001B[39m         mode=mode,\n\u001B[32m   (...)\u001B[39m\u001B[32m     66\u001B[39m         engine_kwargs=engine_kwargs,\n\u001B[32m     67\u001B[39m     )\n",
      "\u001B[31mModuleNotFoundError\u001B[39m: No module named 'openpyxl'"
     ]
    }
   ],
   "execution_count": 38
  }
 ]
}
